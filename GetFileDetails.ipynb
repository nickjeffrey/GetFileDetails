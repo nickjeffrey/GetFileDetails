{
 "cells": [
  {
   "cell_type": "markdown",
   "id": "694c3c91",
   "metadata": {},
   "source": [
    "# file server age report"
   ]
  },
  {
   "cell_type": "markdown",
   "id": "217baad4",
   "metadata": {},
   "source": [
    "This jupyter notebook will take CSV data showing details about files on a network share, and generate graphs based on file size and age.\n"
   ]
  },
  {
   "cell_type": "markdown",
   "id": "d1e5aa4b",
   "metadata": {},
   "source": [
    "# 1 - import required libraries"
   ]
  },
  {
   "cell_type": "code",
   "execution_count": 1,
   "id": "b105131f",
   "metadata": {},
   "outputs": [],
   "source": [
    "import pandas as pd\n",
    "import numpy  as np\n",
    "import matplotlib.pyplot as plt\n",
    "\n"
   ]
  },
  {
   "cell_type": "markdown",
   "id": "99d02e11",
   "metadata": {},
   "source": [
    "# 2 - Load dataset into a Pandas DataFrame"
   ]
  },
  {
   "cell_type": "code",
   "execution_count": 3,
   "id": "59961edc",
   "metadata": {},
   "outputs": [],
   "source": [
    "#df = pd.read_csv('c:/temp/1/filenames.csv')  \n",
    "df = pd.read_csv('https://raw.githubusercontent.com/nickjeffrey/GetFileDetails/filenames.csv')\n"
   ]
  },
  {
   "cell_type": "code",
   "execution_count": 4,
   "id": "5c751410",
   "metadata": {},
   "outputs": [
    {
     "data": {
      "text/html": [
       "<div>\n",
       "<style scoped>\n",
       "    .dataframe tbody tr th:only-of-type {\n",
       "        vertical-align: middle;\n",
       "    }\n",
       "\n",
       "    .dataframe tbody tr th {\n",
       "        vertical-align: top;\n",
       "    }\n",
       "\n",
       "    .dataframe thead th {\n",
       "        text-align: right;\n",
       "    }\n",
       "</style>\n",
       "<table border=\"1\" class=\"dataframe\">\n",
       "  <thead>\n",
       "    <tr style=\"text-align: right;\">\n",
       "      <th></th>\n",
       "      <th>Filename</th>\n",
       "      <th>Bytes</th>\n",
       "      <th>MegaBytes</th>\n",
       "      <th>GigaBytes</th>\n",
       "      <th>CreationTimeEpoch</th>\n",
       "      <th>CreationTimeDays</th>\n",
       "      <th>AccessTimeEpoch</th>\n",
       "      <th>AccessTimeDays</th>\n",
       "      <th>ModificationTimeEpoch</th>\n",
       "      <th>ModificationTimeDays</th>\n",
       "      <th>MD5sum</th>\n",
       "    </tr>\n",
       "  </thead>\n",
       "  <tbody>\n",
       "    <tr>\n",
       "      <th>0</th>\n",
       "      <td>x:\\xs9cvy_c9vy\\x9hc_2_c9syvn_5kv11yd878.jpg</td>\n",
       "      <td>2314341</td>\n",
       "      <td>2</td>\n",
       "      <td>0</td>\n",
       "      <td>1330797994</td>\n",
       "      <td>4153</td>\n",
       "      <td>1527501836</td>\n",
       "      <td>1876</td>\n",
       "      <td>1330797994</td>\n",
       "      <td>4153</td>\n",
       "      <td>0</td>\n",
       "    </tr>\n",
       "    <tr>\n",
       "      <th>1</th>\n",
       "      <td>x:\\xs9cvy_c9vy\\x9hc_2_c9syvn_5kv11yd879.jpg</td>\n",
       "      <td>2680772</td>\n",
       "      <td>3</td>\n",
       "      <td>0</td>\n",
       "      <td>1330797994</td>\n",
       "      <td>4153</td>\n",
       "      <td>1527501836</td>\n",
       "      <td>1876</td>\n",
       "      <td>1330797994</td>\n",
       "      <td>4153</td>\n",
       "      <td>0</td>\n",
       "    </tr>\n",
       "    <tr>\n",
       "      <th>2</th>\n",
       "      <td>x:\\xs9cvy_c9vy\\x9hc_2_c9syvn_5kv11yd880.jpg</td>\n",
       "      <td>3057284</td>\n",
       "      <td>3</td>\n",
       "      <td>0</td>\n",
       "      <td>1330797996</td>\n",
       "      <td>4153</td>\n",
       "      <td>1527501836</td>\n",
       "      <td>1876</td>\n",
       "      <td>1330797996</td>\n",
       "      <td>4153</td>\n",
       "      <td>0</td>\n",
       "    </tr>\n",
       "    <tr>\n",
       "      <th>3</th>\n",
       "      <td>x:\\xs9cvy_c9vy\\x9hc_2_c9syvn_5kv11yd881.6yqcV</td>\n",
       "      <td>2960049</td>\n",
       "      <td>3</td>\n",
       "      <td>0</td>\n",
       "      <td>1330797996</td>\n",
       "      <td>4153</td>\n",
       "      <td>1527501836</td>\n",
       "      <td>1876</td>\n",
       "      <td>1330797996</td>\n",
       "      <td>4153</td>\n",
       "      <td>0</td>\n",
       "    </tr>\n",
       "    <tr>\n",
       "      <th>4</th>\n",
       "      <td>x:\\xs9cvy_c9vy\\x9hc_2_c9syvn_5kv11yd900.jpg</td>\n",
       "      <td>3178158</td>\n",
       "      <td>3</td>\n",
       "      <td>0</td>\n",
       "      <td>1330798008</td>\n",
       "      <td>4153</td>\n",
       "      <td>1527501836</td>\n",
       "      <td>1876</td>\n",
       "      <td>1330798008</td>\n",
       "      <td>4153</td>\n",
       "      <td>0</td>\n",
       "    </tr>\n",
       "  </tbody>\n",
       "</table>\n",
       "</div>"
      ],
      "text/plain": [
       "                                        Filename    Bytes  MegaBytes  \\\n",
       "0    x:\\xs9cvy_c9vy\\x9hc_2_c9syvn_5kv11yd878.jpg  2314341          2   \n",
       "1    x:\\xs9cvy_c9vy\\x9hc_2_c9syvn_5kv11yd879.jpg  2680772          3   \n",
       "2    x:\\xs9cvy_c9vy\\x9hc_2_c9syvn_5kv11yd880.jpg  3057284          3   \n",
       "3  x:\\xs9cvy_c9vy\\x9hc_2_c9syvn_5kv11yd881.6yqcV  2960049          3   \n",
       "4    x:\\xs9cvy_c9vy\\x9hc_2_c9syvn_5kv11yd900.jpg  3178158          3   \n",
       "\n",
       "   GigaBytes  CreationTimeEpoch  CreationTimeDays  AccessTimeEpoch  \\\n",
       "0          0         1330797994              4153       1527501836   \n",
       "1          0         1330797994              4153       1527501836   \n",
       "2          0         1330797996              4153       1527501836   \n",
       "3          0         1330797996              4153       1527501836   \n",
       "4          0         1330798008              4153       1527501836   \n",
       "\n",
       "   AccessTimeDays  ModificationTimeEpoch  ModificationTimeDays  MD5sum  \n",
       "0            1876             1330797994                  4153       0  \n",
       "1            1876             1330797994                  4153       0  \n",
       "2            1876             1330797996                  4153       0  \n",
       "3            1876             1330797996                  4153       0  \n",
       "4            1876             1330798008                  4153       0  "
      ]
     },
     "execution_count": 4,
     "metadata": {},
     "output_type": "execute_result"
    }
   ],
   "source": [
    "# look at the top few rows of the data to confirm the labels are correct\n",
    "df.head()"
   ]
  },
  {
   "cell_type": "code",
   "execution_count": 5,
   "id": "8c28cacf",
   "metadata": {
    "scrolled": true
   },
   "outputs": [
    {
     "data": {
      "text/html": [
       "<div>\n",
       "<style scoped>\n",
       "    .dataframe tbody tr th:only-of-type {\n",
       "        vertical-align: middle;\n",
       "    }\n",
       "\n",
       "    .dataframe tbody tr th {\n",
       "        vertical-align: top;\n",
       "    }\n",
       "\n",
       "    .dataframe thead th {\n",
       "        text-align: right;\n",
       "    }\n",
       "</style>\n",
       "<table border=\"1\" class=\"dataframe\">\n",
       "  <thead>\n",
       "    <tr style=\"text-align: right;\">\n",
       "      <th></th>\n",
       "      <th>Filename</th>\n",
       "      <th>Bytes</th>\n",
       "      <th>MegaBytes</th>\n",
       "      <th>GigaBytes</th>\n",
       "      <th>CreationTimeEpoch</th>\n",
       "      <th>CreationTimeDays</th>\n",
       "      <th>AccessTimeEpoch</th>\n",
       "      <th>AccessTimeDays</th>\n",
       "      <th>ModificationTimeEpoch</th>\n",
       "      <th>ModificationTimeDays</th>\n",
       "      <th>MD5sum</th>\n",
       "    </tr>\n",
       "  </thead>\n",
       "  <tbody>\n",
       "    <tr>\n",
       "      <th>99995</th>\n",
       "      <td>x:\\ayt69vy\\9vdfjc_c6tvw5\\1._M9v7TcxfrS\\q9v7dyl...</td>\n",
       "      <td>45969</td>\n",
       "      <td>0</td>\n",
       "      <td>0</td>\n",
       "      <td>1469794044</td>\n",
       "      <td>2544</td>\n",
       "      <td>1653919161</td>\n",
       "      <td>413</td>\n",
       "      <td>1470131623</td>\n",
       "      <td>2540</td>\n",
       "      <td>0</td>\n",
       "    </tr>\n",
       "    <tr>\n",
       "      <th>99996</th>\n",
       "      <td>x:\\ayt69vy\\9vdfjc_c6tvw5\\1._M9v7TcxfrS\\q9v7dyl...</td>\n",
       "      <td>53069</td>\n",
       "      <td>0</td>\n",
       "      <td>0</td>\n",
       "      <td>1470131650</td>\n",
       "      <td>2540</td>\n",
       "      <td>1653919161</td>\n",
       "      <td>413</td>\n",
       "      <td>1470757314</td>\n",
       "      <td>2533</td>\n",
       "      <td>0</td>\n",
       "    </tr>\n",
       "    <tr>\n",
       "      <th>99997</th>\n",
       "      <td>x:\\ayt69vy\\9vdfjc_c6tvw5\\1._M9v7TcxfrS\\q9v7dyl...</td>\n",
       "      <td>40770</td>\n",
       "      <td>0</td>\n",
       "      <td>0</td>\n",
       "      <td>1471254564</td>\n",
       "      <td>2527</td>\n",
       "      <td>1653919161</td>\n",
       "      <td>413</td>\n",
       "      <td>1471339790</td>\n",
       "      <td>2526</td>\n",
       "      <td>0</td>\n",
       "    </tr>\n",
       "    <tr>\n",
       "      <th>99998</th>\n",
       "      <td>x:\\ayt69vy\\9vdfjc_c6tvw5\\1._M9v7TcxfrS\\q9v7dyl...</td>\n",
       "      <td>38964</td>\n",
       "      <td>0</td>\n",
       "      <td>0</td>\n",
       "      <td>1471879288</td>\n",
       "      <td>2520</td>\n",
       "      <td>1653919161</td>\n",
       "      <td>413</td>\n",
       "      <td>1471944663</td>\n",
       "      <td>2519</td>\n",
       "      <td>0</td>\n",
       "    </tr>\n",
       "    <tr>\n",
       "      <th>99999</th>\n",
       "      <td>x:\\ayt69vy\\9vdfjc_c6tvw5\\1._M9v7TcxfrS\\q9v7dyl...</td>\n",
       "      <td>38795</td>\n",
       "      <td>0</td>\n",
       "      <td>0</td>\n",
       "      <td>1473150309</td>\n",
       "      <td>2505</td>\n",
       "      <td>1653919161</td>\n",
       "      <td>413</td>\n",
       "      <td>1473154651</td>\n",
       "      <td>2505</td>\n",
       "      <td>0</td>\n",
       "    </tr>\n",
       "  </tbody>\n",
       "</table>\n",
       "</div>"
      ],
      "text/plain": [
       "                                                Filename  Bytes  MegaBytes  \\\n",
       "99995  x:\\ayt69vy\\9vdfjc_c6tvw5\\1._M9v7TcxfrS\\q9v7dyl...  45969          0   \n",
       "99996  x:\\ayt69vy\\9vdfjc_c6tvw5\\1._M9v7TcxfrS\\q9v7dyl...  53069          0   \n",
       "99997  x:\\ayt69vy\\9vdfjc_c6tvw5\\1._M9v7TcxfrS\\q9v7dyl...  40770          0   \n",
       "99998  x:\\ayt69vy\\9vdfjc_c6tvw5\\1._M9v7TcxfrS\\q9v7dyl...  38964          0   \n",
       "99999  x:\\ayt69vy\\9vdfjc_c6tvw5\\1._M9v7TcxfrS\\q9v7dyl...  38795          0   \n",
       "\n",
       "       GigaBytes  CreationTimeEpoch  CreationTimeDays  AccessTimeEpoch  \\\n",
       "99995          0         1469794044              2544       1653919161   \n",
       "99996          0         1470131650              2540       1653919161   \n",
       "99997          0         1471254564              2527       1653919161   \n",
       "99998          0         1471879288              2520       1653919161   \n",
       "99999          0         1473150309              2505       1653919161   \n",
       "\n",
       "       AccessTimeDays  ModificationTimeEpoch  ModificationTimeDays  MD5sum  \n",
       "99995             413             1470131623                  2540       0  \n",
       "99996             413             1470757314                  2533       0  \n",
       "99997             413             1471339790                  2526       0  \n",
       "99998             413             1471944663                  2519       0  \n",
       "99999             413             1473154651                  2505       0  "
      ]
     },
     "execution_count": 5,
     "metadata": {},
     "output_type": "execute_result"
    }
   ],
   "source": [
    "# look at the bottom few rows of the data \n",
    "df.tail()"
   ]
  },
  {
   "cell_type": "code",
   "execution_count": 6,
   "id": "bbacb227",
   "metadata": {},
   "outputs": [
    {
     "name": "stdout",
     "output_type": "stream",
     "text": [
      "Rows in dataset: 100000\n"
     ]
    }
   ],
   "source": [
    "# show number of rows in dataset\n",
    "print (\"Rows in dataset:\", len(df))"
   ]
  },
  {
   "cell_type": "code",
   "execution_count": 7,
   "id": "87269986",
   "metadata": {},
   "outputs": [
    {
     "name": "stdout",
     "output_type": "stream",
     "text": [
      "Rows,columns in dataset: (100000, 11)\n"
     ]
    }
   ],
   "source": [
    "#view dimensions of dataset (rows and columns)\n",
    "print (\"Rows,columns in dataset:\", df.shape)"
   ]
  },
  {
   "cell_type": "code",
   "execution_count": 8,
   "id": "0ddde40a",
   "metadata": {},
   "outputs": [
    {
     "data": {
      "text/plain": [
       "Filename                 0\n",
       "Bytes                    0\n",
       "MegaBytes                0\n",
       "GigaBytes                0\n",
       "CreationTimeEpoch        0\n",
       "CreationTimeDays         0\n",
       "AccessTimeEpoch          0\n",
       "AccessTimeDays           0\n",
       "ModificationTimeEpoch    0\n",
       "ModificationTimeDays     0\n",
       "MD5sum                   0\n",
       "dtype: int64"
      ]
     },
     "execution_count": 8,
     "metadata": {},
     "output_type": "execute_result"
    }
   ],
   "source": [
    "# check to see if there are any missing values from the dataset\n",
    "\n",
    "# all of the results should be zero, which would indicate there are not any null values in the dataset\n",
    "# if there are any results greater than zero, it would indicate that some pieces of data are missing and should be cleaned up.\n",
    "df.isnull().sum()"
   ]
  },
  {
   "cell_type": "code",
   "execution_count": 9,
   "id": "d367b92e",
   "metadata": {},
   "outputs": [
    {
     "data": {
      "image/png": "[encoded data removed]",
      "text/plain": [
       "<Figure size 640x480 with 1 Axes>"
      ]
     },
     "metadata": {},
     "output_type": "display_data"
    }
   ],
   "source": [
    "# visualize any missing values from the dataset in a histogram\n",
    "# you want all the bars in the graph to be empty, which would indicate zero missing values\n",
    "\n",
    "df.isnull().sum().plot.bar()\n",
    "plt.show()"
   ]
  },
  {
   "cell_type": "code",
   "execution_count": 10,
   "id": "3b21a631",
   "metadata": {},
   "outputs": [
    {
     "name": "stdout",
     "output_type": "stream",
     "text": [
      "Checking for missing values in data set\n",
      "No NAs found\n"
     ]
    }
   ],
   "source": [
    "# another method to visalize missing values from dataset\n",
    "\n",
    "print (\"Checking for missing values in data set\")\n",
    "\n",
    "import matplotlib.pyplot as plt\n",
    "def plot_nas(df: pd.DataFrame):\n",
    "    if df.isnull().sum().sum() != 0:\n",
    "        na_df = (df.isnull().sum() / len(df)) * 100      \n",
    "        na_df = na_df.drop(na_df[na_df == 0].index).sort_values(ascending=False)\n",
    "        missing_data = pd.DataFrame({'Missing Ratio %' :na_df})\n",
    "        missing_data.plot(kind = \"barh\")\n",
    "        plt.show()\n",
    "    else:\n",
    "        print('No NAs found')\n",
    "plot_nas(df)\n"
   ]
  },
  {
   "cell_type": "code",
   "execution_count": 11,
   "id": "f8d06631",
   "metadata": {},
   "outputs": [
    {
     "data": {
      "text/plain": [
       "Index(['Filename', 'Bytes', 'MegaBytes', 'GigaBytes', 'CreationTimeEpoch',\n",
       "       'CreationTimeDays', 'AccessTimeEpoch', 'AccessTimeDays',\n",
       "       'ModificationTimeEpoch', 'ModificationTimeDays', 'MD5sum'],\n",
       "      dtype='object')"
      ]
     },
     "execution_count": 11,
     "metadata": {},
     "output_type": "execute_result"
    }
   ],
   "source": [
    "#show the names of the columns (also called feature names)\n",
    "df.columns"
   ]
  },
  {
   "cell_type": "code",
   "execution_count": 12,
   "id": "c4b3e610",
   "metadata": {},
   "outputs": [
    {
     "name": "stdout",
     "output_type": "stream",
     "text": [
      "<class 'pandas.core.frame.DataFrame'>\n",
      "RangeIndex: 100000 entries, 0 to 99999\n",
      "Data columns (total 11 columns):\n",
      " #   Column                 Non-Null Count   Dtype \n",
      "---  ------                 --------------   ----- \n",
      " 0   Filename               100000 non-null  object\n",
      " 1   Bytes                  100000 non-null  int64 \n",
      " 2   MegaBytes              100000 non-null  int64 \n",
      " 3   GigaBytes              100000 non-null  int64 \n",
      " 4   CreationTimeEpoch      100000 non-null  int64 \n",
      " 5   CreationTimeDays       100000 non-null  int64 \n",
      " 6   AccessTimeEpoch        100000 non-null  int64 \n",
      " 7   AccessTimeDays         100000 non-null  int64 \n",
      " 8   ModificationTimeEpoch  100000 non-null  int64 \n",
      " 9   ModificationTimeDays   100000 non-null  int64 \n",
      " 10  MD5sum                 100000 non-null  int64 \n",
      "dtypes: int64(10), object(1)\n",
      "memory usage: 8.4+ MB\n"
     ]
    }
   ],
   "source": [
    "#show summary info about dataset\n",
    "df.info()"
   ]
  },
  {
   "cell_type": "code",
   "execution_count": 13,
   "id": "607d0ca7",
   "metadata": {},
   "outputs": [
    {
     "data": {
      "text/plain": [
       "Filename                 object\n",
       "Bytes                     int64\n",
       "MegaBytes                 int64\n",
       "GigaBytes                 int64\n",
       "CreationTimeEpoch         int64\n",
       "CreationTimeDays          int64\n",
       "AccessTimeEpoch           int64\n",
       "AccessTimeDays            int64\n",
       "ModificationTimeEpoch     int64\n",
       "ModificationTimeDays      int64\n",
       "MD5sum                    int64\n",
       "dtype: object"
      ]
     },
     "execution_count": 13,
     "metadata": {},
     "output_type": "execute_result"
    }
   ],
   "source": [
    "# show data types \n",
    "df.dtypes"
   ]
  },
  {
   "cell_type": "markdown",
   "id": "eb718263",
   "metadata": {},
   "source": [
    "# 3 - dimensionality reduction by removing features "
   ]
  },
  {
   "cell_type": "markdown",
   "id": "ebd8cbbb",
   "metadata": {},
   "source": [
    "In this example, we are dropping some of the columns from the dataset that are not useful.\n",
    "Please note that this is more of a \"data science\" exercise than a machine learning exercise, so it isn't that these features have no predictive value for a ML algorithm.\n"
   ]
  },
  {
   "cell_type": "code",
   "execution_count": 14,
   "id": "b20eaf80",
   "metadata": {},
   "outputs": [],
   "source": [
    "# drop any redundant columns from the dataset which does not have any predictive power. \n",
    "\n",
    "#In this example, we have features for bytes,MegaBytes, Gigabytes.\n",
    "# We really only need the bytes column, so get rid of the other two.\n",
    "if 'MegaBytes' in df.columns: df.drop('MegaBytes', axis=1, inplace=True)\n",
    "if 'GigaBytes' in df.columns: df.drop('GigaBytes', axis=1, inplace=True)\n",
    "\n",
    "\n",
    "# we really only care about the ModificationTimeDays, so drop the other timestamps\n",
    "if 'CreationTimeEpoch'     in df.columns: df.drop('CreationTimeEpoch',     axis=1, inplace=True)\n",
    "if 'CreationTimeDays'      in df.columns: df.drop('CreationTimeDays',      axis=1, inplace=True)\n",
    "if 'AccessTimeEpoch'       in df.columns: df.drop('AccessTimeEpoch',       axis=1, inplace=True)\n",
    "if 'AccessTimeDays'        in df.columns: df.drop('AccessTimeDays',        axis=1, inplace=True)\n",
    "if 'ModificationTimeEpoch' in df.columns: df.drop('ModificationTimeEpoch', axis=1, inplace=True)\n",
    "\n",
    "# There is a column for the MD5 checksum of each file, but at the moment, we only care about file age, so drop MD5sum\n",
    "if 'MD5sum' in df.columns: df.drop('MD5sum', axis=1, inplace=True)\n",
    "\n"
   ]
  },
  {
   "cell_type": "code",
   "execution_count": 15,
   "id": "84002d8c",
   "metadata": {},
   "outputs": [
    {
     "name": "stdout",
     "output_type": "stream",
     "text": [
      "<class 'pandas.core.frame.DataFrame'>\n",
      "RangeIndex: 100000 entries, 0 to 99999\n",
      "Data columns (total 3 columns):\n",
      " #   Column                Non-Null Count   Dtype \n",
      "---  ------                --------------   ----- \n",
      " 0   Filename              100000 non-null  object\n",
      " 1   Bytes                 100000 non-null  int64 \n",
      " 2   ModificationTimeDays  100000 non-null  int64 \n",
      "dtypes: int64(2), object(1)\n",
      "memory usage: 2.3+ MB\n"
     ]
    }
   ],
   "source": [
    "#Look at the dataset again, you should see several columns have been dropped\n",
    "df.info()"
   ]
  },
  {
   "cell_type": "code",
   "execution_count": 16,
   "id": "593b3497",
   "metadata": {},
   "outputs": [
    {
     "data": {
      "text/html": [
       "<div>\n",
       "<style scoped>\n",
       "    .dataframe tbody tr th:only-of-type {\n",
       "        vertical-align: middle;\n",
       "    }\n",
       "\n",
       "    .dataframe tbody tr th {\n",
       "        vertical-align: top;\n",
       "    }\n",
       "\n",
       "    .dataframe thead th {\n",
       "        text-align: right;\n",
       "    }\n",
       "</style>\n",
       "<table border=\"1\" class=\"dataframe\">\n",
       "  <thead>\n",
       "    <tr style=\"text-align: right;\">\n",
       "      <th></th>\n",
       "      <th>Filename</th>\n",
       "      <th>Bytes</th>\n",
       "      <th>ModificationTimeDays</th>\n",
       "    </tr>\n",
       "  </thead>\n",
       "  <tbody>\n",
       "    <tr>\n",
       "      <th>0</th>\n",
       "      <td>x:\\xs9cvy_c9vy\\x9hc_2_c9syvn_5kv11yd878.jpg</td>\n",
       "      <td>2314341</td>\n",
       "      <td>4153</td>\n",
       "    </tr>\n",
       "    <tr>\n",
       "      <th>1</th>\n",
       "      <td>x:\\xs9cvy_c9vy\\x9hc_2_c9syvn_5kv11yd879.jpg</td>\n",
       "      <td>2680772</td>\n",
       "      <td>4153</td>\n",
       "    </tr>\n",
       "    <tr>\n",
       "      <th>2</th>\n",
       "      <td>x:\\xs9cvy_c9vy\\x9hc_2_c9syvn_5kv11yd880.jpg</td>\n",
       "      <td>3057284</td>\n",
       "      <td>4153</td>\n",
       "    </tr>\n",
       "    <tr>\n",
       "      <th>3</th>\n",
       "      <td>x:\\xs9cvy_c9vy\\x9hc_2_c9syvn_5kv11yd881.6yqcV</td>\n",
       "      <td>2960049</td>\n",
       "      <td>4153</td>\n",
       "    </tr>\n",
       "    <tr>\n",
       "      <th>4</th>\n",
       "      <td>x:\\xs9cvy_c9vy\\x9hc_2_c9syvn_5kv11yd900.jpg</td>\n",
       "      <td>3178158</td>\n",
       "      <td>4153</td>\n",
       "    </tr>\n",
       "  </tbody>\n",
       "</table>\n",
       "</div>"
      ],
      "text/plain": [
       "                                        Filename    Bytes  \\\n",
       "0    x:\\xs9cvy_c9vy\\x9hc_2_c9syvn_5kv11yd878.jpg  2314341   \n",
       "1    x:\\xs9cvy_c9vy\\x9hc_2_c9syvn_5kv11yd879.jpg  2680772   \n",
       "2    x:\\xs9cvy_c9vy\\x9hc_2_c9syvn_5kv11yd880.jpg  3057284   \n",
       "3  x:\\xs9cvy_c9vy\\x9hc_2_c9syvn_5kv11yd881.6yqcV  2960049   \n",
       "4    x:\\xs9cvy_c9vy\\x9hc_2_c9syvn_5kv11yd900.jpg  3178158   \n",
       "\n",
       "   ModificationTimeDays  \n",
       "0                  4153  \n",
       "1                  4153  \n",
       "2                  4153  \n",
       "3                  4153  \n",
       "4                  4153  "
      ]
     },
     "execution_count": 16,
     "metadata": {},
     "output_type": "execute_result"
    }
   ],
   "source": [
    "# At this point, we have 3 columns: Filename, Bytes, ModificationTimeDays\n",
    "# look at the top few rows of the data to confirm the labels are correct\n",
    "df.head()"
   ]
  },
  {
   "cell_type": "code",
   "execution_count": 17,
   "id": "54d20966",
   "metadata": {},
   "outputs": [],
   "source": [
    "# drop rows to make the dataset a bit faster during testing\n",
    "# Let's say we want to drop all rows between indices 10000 and 999999 inclusive. \n",
    "# We can do this with the drop() function and the range() function to generate the indices:\n",
    "# df.drop(range(10000, 1000000), inplace=True)"
   ]
  },
  {
   "cell_type": "code",
   "execution_count": 18,
   "id": "d884b21c",
   "metadata": {},
   "outputs": [
    {
     "name": "stdout",
     "output_type": "stream",
     "text": [
      "Rows,columns in dataset: (100000, 3)\n"
     ]
    }
   ],
   "source": [
    "#view dimensions of dataset (rows and columns)\n",
    "print (\"Rows,columns in dataset:\", df.shape)"
   ]
  },
  {
   "cell_type": "code",
   "execution_count": 19,
   "id": "8c9379a7",
   "metadata": {},
   "outputs": [
    {
     "data": {
      "text/html": [
       "<div>\n",
       "<style scoped>\n",
       "    .dataframe tbody tr th:only-of-type {\n",
       "        vertical-align: middle;\n",
       "    }\n",
       "\n",
       "    .dataframe tbody tr th {\n",
       "        vertical-align: top;\n",
       "    }\n",
       "\n",
       "    .dataframe thead th {\n",
       "        text-align: right;\n",
       "    }\n",
       "</style>\n",
       "<table border=\"1\" class=\"dataframe\">\n",
       "  <thead>\n",
       "    <tr style=\"text-align: right;\">\n",
       "      <th></th>\n",
       "      <th>Filename</th>\n",
       "      <th>Bytes</th>\n",
       "      <th>ModificationTimeDays</th>\n",
       "    </tr>\n",
       "  </thead>\n",
       "  <tbody>\n",
       "    <tr>\n",
       "      <th>99995</th>\n",
       "      <td>x:\\ayt69vy\\9vdfjc_c6tvw5\\1._M9v7TcxfrS\\q9v7dyl...</td>\n",
       "      <td>45969</td>\n",
       "      <td>2540</td>\n",
       "    </tr>\n",
       "    <tr>\n",
       "      <th>99996</th>\n",
       "      <td>x:\\ayt69vy\\9vdfjc_c6tvw5\\1._M9v7TcxfrS\\q9v7dyl...</td>\n",
       "      <td>53069</td>\n",
       "      <td>2533</td>\n",
       "    </tr>\n",
       "    <tr>\n",
       "      <th>99997</th>\n",
       "      <td>x:\\ayt69vy\\9vdfjc_c6tvw5\\1._M9v7TcxfrS\\q9v7dyl...</td>\n",
       "      <td>40770</td>\n",
       "      <td>2526</td>\n",
       "    </tr>\n",
       "    <tr>\n",
       "      <th>99998</th>\n",
       "      <td>x:\\ayt69vy\\9vdfjc_c6tvw5\\1._M9v7TcxfrS\\q9v7dyl...</td>\n",
       "      <td>38964</td>\n",
       "      <td>2519</td>\n",
       "    </tr>\n",
       "    <tr>\n",
       "      <th>99999</th>\n",
       "      <td>x:\\ayt69vy\\9vdfjc_c6tvw5\\1._M9v7TcxfrS\\q9v7dyl...</td>\n",
       "      <td>38795</td>\n",
       "      <td>2505</td>\n",
       "    </tr>\n",
       "  </tbody>\n",
       "</table>\n",
       "</div>"
      ],
      "text/plain": [
       "                                                Filename  Bytes  \\\n",
       "99995  x:\\ayt69vy\\9vdfjc_c6tvw5\\1._M9v7TcxfrS\\q9v7dyl...  45969   \n",
       "99996  x:\\ayt69vy\\9vdfjc_c6tvw5\\1._M9v7TcxfrS\\q9v7dyl...  53069   \n",
       "99997  x:\\ayt69vy\\9vdfjc_c6tvw5\\1._M9v7TcxfrS\\q9v7dyl...  40770   \n",
       "99998  x:\\ayt69vy\\9vdfjc_c6tvw5\\1._M9v7TcxfrS\\q9v7dyl...  38964   \n",
       "99999  x:\\ayt69vy\\9vdfjc_c6tvw5\\1._M9v7TcxfrS\\q9v7dyl...  38795   \n",
       "\n",
       "       ModificationTimeDays  \n",
       "99995                  2540  \n",
       "99996                  2533  \n",
       "99997                  2526  \n",
       "99998                  2519  \n",
       "99999                  2505  "
      ]
     },
     "execution_count": 19,
     "metadata": {},
     "output_type": "execute_result"
    }
   ],
   "source": [
    "# At this point, we have 3 columns: Filename, Bytes, ModificationTimeDays\n",
    "# look at the bottom few rows of the data to confirm the labels are correct\n",
    "df.tail()"
   ]
  },
  {
   "cell_type": "markdown",
   "id": "dcdcf628",
   "metadata": {},
   "source": [
    "# 4 - Categorize filenames by age"
   ]
  },
  {
   "cell_type": "code",
   "execution_count": 20,
   "id": "5910711d",
   "metadata": {},
   "outputs": [
    {
     "name": "stdout",
     "output_type": "stream",
     "text": [
      "Number of files with last modification date   0 to  90  days:  1571\n",
      "Number of files with last modification date  90 to 180  days:  1903\n",
      "Number of files with last modification date 180 to 365  days:  2377\n",
      "Number of files with last modification date   1 to   2 years:  4089\n",
      "Number of files with last modification date   2 to   3 years:  1427\n",
      "Number of files with last modification date   3 to   5 years:  16872\n",
      "Number of files with last modification date   5 to  99 years:  71761\n"
     ]
    }
   ],
   "source": [
    "# show a list of all the filenames with age 0 to  90 days old by extracting all rows with ModificationTimeDays <= 90\n",
    "age0to90days = (df[(df['ModificationTimeDays'] >= 0) & (df['ModificationTimeDays'] < 90)])\n",
    "print(\"Number of files with last modification date   0 to  90  days: \", (len(age0to90days)) )\n",
    "\n",
    "# show a list of all the filenames with age 90 to 180 days\n",
    "age90to180days = (df[(df['ModificationTimeDays'] >= 90) & (df['ModificationTimeDays'] < 180)])\n",
    "print(\"Number of files with last modification date  90 to 180  days: \", (len(age90to180days)) )\n",
    "\n",
    "# show a list of all the filenames with age 180 to 365 days\n",
    "age180to365days = (df[(df['ModificationTimeDays'] >= 180) & (df['ModificationTimeDays'] < 365)])\n",
    "print(\"Number of files with last modification date 180 to 365  days: \", (len(age180to365days)) )\n",
    "\n",
    "# show a list of all the filenames with age 1 to 2 years days\n",
    "age1to2years = (df[(df['ModificationTimeDays'] >= (365*1)) & (df['ModificationTimeDays'] < (365*2))])\n",
    "print(\"Number of files with last modification date   1 to   2 years: \", (len(age1to2years)) )\n",
    "\n",
    "# show a list of all the filenames with age 2 to 3 years days\n",
    "age2to3years = (df[(df['ModificationTimeDays'] >= (365*2)) & (df['ModificationTimeDays'] < (365*3))])\n",
    "print(\"Number of files with last modification date   2 to   3 years: \", (len(age2to3years)) )\n",
    "\n",
    "# show a list of all the filenames with age 3 to 5 years days\n",
    "age3to5years = (df[(df['ModificationTimeDays'] >= (365*3)) & (df['ModificationTimeDays'] < (365*5))])\n",
    "print(\"Number of files with last modification date   3 to   5 years: \", (len(age3to5years)) )\n",
    "\n",
    "# show a list of all the filenames with age 5 to 99 years days\n",
    "age5to99years = (df[(df['ModificationTimeDays'] >= (365*5)) & (df['ModificationTimeDays'] < (365*99))])\n",
    "print(\"Number of files with last modification date   5 to  99 years: \", (len(age5to99years)) )\n",
    "\n"
   ]
  },
  {
   "cell_type": "code",
   "execution_count": 21,
   "id": "d40925e8",
   "metadata": {
    "scrolled": false
   },
   "outputs": [
    {
     "data": {
      "text/plain": [
       "<AxesSubplot:title={'center':'Filename counts by age'}, xlabel='Last Modification Date', ylabel='Number of files'>"
      ]
     },
     "execution_count": 21,
     "metadata": {},
     "output_type": "execute_result"
    },
    {
     "data": {
      "image/png": "[encoded data removed]",
      "text/plain": [
       "<Figure size 640x480 with 1 Axes>"
      ]
     },
     "metadata": {},
     "output_type": "display_data"
    }
   ],
   "source": [
    "# create a bar graph with these vertical columns:\n",
    "# age0to90days\n",
    "# age90to180days\n",
    "# age180to365days\n",
    "# age1to2years\n",
    "# age2to3years\n",
    "# age3to5years\n",
    "# age5to99years\n",
    "\n",
    "\n",
    "# Create a Pandas series from a list of values (\"[]\") and plot it:\n",
    "#pd.Series([len(age0to90days), len(age90to180days), len(age180to365days), len(age1to2years), len(age2to3years), len(age3to5years), len(age5to99years)]).plot(kind=\"bar\")\n",
    "#pd.Series([1, 2, 3, 4, 5, 6, 7]).plot(kind=\"bar\")\n",
    "\n",
    "# Create a sample dataframe with a text index\n",
    "plotdata = pd.DataFrame({\"Filename Ages\": [len(age0to90days), len(age90to180days), len(age180to365days), len(age1to2years), len(age2to3years), len(age3to5years), len(age5to99years)]}, index=[\"0to90days\", \"90to180days\", \"180to365days\", \"1to2years\", \"2to3years\", \"3to5years\", \"5to99years\"])\n",
    "# Plot a bar chart\n",
    "#plt.title(\"Filename counts by age\")\n",
    "#plt.xlabel(\"File age\")\n",
    "#plt.ylabel(\"Number of files\")\n",
    "plotdata.plot(kind=\"bar\",title=\"Filename counts by age\",xlabel=\"Last Modification Date\",ylabel=\"Number of files\")\n",
    "\n",
    "# To do: \n",
    "# see if you can show the vertical axis in \"thousands of files\" (ie adjust the scale)\n"
   ]
  },
  {
   "cell_type": "code",
   "execution_count": 22,
   "id": "f82919de",
   "metadata": {},
   "outputs": [
    {
     "data": {
      "image/png": "[encoded data removed]",
      "text/plain": [
       "<Figure size 640x480 with 1 Axes>"
      ]
     },
     "metadata": {},
     "output_type": "display_data"
    }
   ],
   "source": [
    "# create pie chart using the same data as the previous bar chart\n",
    "\n",
    "labels = \"0to90days\", \"90to180days\", \"180to365days\", \"1to2years\", \"2to3years\", \"3to5years\", \"5to99years\"\n",
    "sizes  = [len(age0to90days), len(age90to180days), len(age180to365days), len(age1to2years), len(age2to3years), len(age3to5years), len(age5to99years)]\n",
    "\n",
    "plt.title(\"Percentage Filename counts by age\")\n",
    "#plt.xlabel(\"Age\")\n",
    "#plt.ylabel(\"Bytes\")\n",
    "plt.pie(sizes, labels=labels, autopct='%1.1f%%')\n",
    "#plt.legend()\n",
    "plt.show()\n"
   ]
  },
  {
   "cell_type": "markdown",
   "id": "717e4bec",
   "metadata": {},
   "source": [
    "# 5 - calculate total bytes for each category of files\n",
    "(this section is time consuming if you have a lot of rows in the dataset)"
   ]
  },
  {
   "cell_type": "code",
   "execution_count": 23,
   "id": "ebe2030d",
   "metadata": {},
   "outputs": [
    {
     "name": "stdout",
     "output_type": "stream",
     "text": [
      "Processed  0 files  x:\\xs9cvy_c9vy\\x9hc_2_c9syvn_5kv11yd878.jpg 2314341 4153\n"
     ]
    }
   ],
   "source": [
    "# figure out the total number of bytes for each file category\n",
    "\n",
    "# initialize variables\n",
    "bytes0to90days    = 0\n",
    "bytes90to180days  = 0\n",
    "bytes180to365days = 0\n",
    "bytes1to2years    = 0\n",
    "bytes2to3years    = 0\n",
    "bytes3to5years    = 0\n",
    "bytes5to99years   = 0\n",
    "\n",
    "\n",
    "# loop through the contents of the dataframe to find the total number of bytes for each file age category\n",
    "for i in range(0,len(df)):\n",
    "    if (i % 100000 == 0): print(\"Processed \", i, \"files \", df.Filename[i], df.Bytes[i], df.ModificationTimeDays[i]) # print debug output every 100000 lines\n",
    "    if (df.ModificationTimeDays[i] >=0       and df.ModificationTimeDays[i] <  90):      bytes0to90days    += df.Bytes[i]\n",
    "    if (df.ModificationTimeDays[i] >=90      and df.ModificationTimeDays[i] < 180):      bytes90to180days  += df.Bytes[i]\n",
    "    if (df.ModificationTimeDays[i] >=180     and df.ModificationTimeDays[i] < 365):      bytes180to365days += df.Bytes[i]\n",
    "    if (df.ModificationTimeDays[i] >=(365*1) and df.ModificationTimeDays[i] < (365*2)):  bytes1to2years    += df.Bytes[i]\n",
    "    if (df.ModificationTimeDays[i] >=(365*2) and df.ModificationTimeDays[i] < (365*3)):  bytes2to3years    += df.Bytes[i]\n",
    "    if (df.ModificationTimeDays[i] >=(365*3) and df.ModificationTimeDays[i] < (365*5)):  bytes3to5years    += df.Bytes[i]\n",
    "    if (df.ModificationTimeDays[i] >=(365*5) and df.ModificationTimeDays[i] < (365*99)): bytes5to99years   += df.Bytes[i]\n",
    "\n",
    "\n",
    "   \n"
   ]
  },
  {
   "cell_type": "code",
   "execution_count": 24,
   "id": "3abdd10d",
   "metadata": {},
   "outputs": [
    {
     "name": "stdout",
     "output_type": "stream",
     "text": [
      "Bytes with last modification date   0 to  90  days:  3848887851\n",
      "Bytes with last modification date  90 to 180  days:  35492838291\n",
      "Bytes with last modification date 180 to 365  days:  5987213341\n",
      "Bytes with last modification date   1 to   2 years:  9513398027\n",
      "Bytes with last modification date   2 to   3 years:  1001406712\n",
      "Bytes with last modification date   3 to   5 years:  56800590490\n",
      "Bytes with last modification date   5 to  99 years:  97731858820\n"
     ]
    }
   ],
   "source": [
    "print(\"Bytes with last modification date   0 to  90  days: \", bytes0to90days    )        \n",
    "print(\"Bytes with last modification date  90 to 180  days: \", bytes90to180days  )        \n",
    "print(\"Bytes with last modification date 180 to 365  days: \", bytes180to365days )        \n",
    "print(\"Bytes with last modification date   1 to   2 years: \", bytes1to2years    )        \n",
    "print(\"Bytes with last modification date   2 to   3 years: \", bytes2to3years    )        \n",
    "print(\"Bytes with last modification date   3 to   5 years: \", bytes3to5years    )        \n",
    "print(\"Bytes with last modification date   5 to  99 years: \", bytes5to99years   )        \n"
   ]
  },
  {
   "cell_type": "code",
   "execution_count": 25,
   "id": "1153774c",
   "metadata": {},
   "outputs": [],
   "source": [
    "# convert bytes to more human-readable megabytes for graphing\n",
    "# use int() to convert the floating point value to the nearest integer (nearest GB is close enough)\n",
    "Mbytes0to90days    = int(bytes0to90days/1024/1024)\n",
    "Mbytes90to180days  = int(bytes90to180days/1024/1024)\n",
    "Mbytes180to365days = int(bytes180to365days/1024/1024)\n",
    "Mbytes1to2years    = int(bytes1to2years/1024/1024)\n",
    "Mbytes2to3years    = int(bytes2to3years/1024/1024)\n",
    "Mbytes3to5years    = int(bytes3to5years/1024/1024)\n",
    "Mbytes5to99years   = int(bytes5to99years/1024/1024)\n"
   ]
  },
  {
   "cell_type": "code",
   "execution_count": 26,
   "id": "e3923527",
   "metadata": {},
   "outputs": [
    {
     "name": "stdout",
     "output_type": "stream",
     "text": [
      "MegaBytes with last modification date   0 to  90  days:  3670\n",
      "MegaBytes with last modification date  90 to 180  days:  33848\n",
      "MegaBytes with last modification date 180 to 365  days:  5709\n",
      "MegaBytes with last modification date   1 to   2 years:  9072\n",
      "MegaBytes with last modification date   2 to   3 years:  955\n",
      "MegaBytes with last modification date   3 to   5 years:  54169\n",
      "MegaBytes with last modification date   5 to  99 years:  93204\n"
     ]
    }
   ],
   "source": [
    "print(\"MegaBytes with last modification date   0 to  90  days: \", Mbytes0to90days    )        \n",
    "print(\"MegaBytes with last modification date  90 to 180  days: \", Mbytes90to180days  )        \n",
    "print(\"MegaBytes with last modification date 180 to 365  days: \", Mbytes180to365days )        \n",
    "print(\"MegaBytes with last modification date   1 to   2 years: \", Mbytes1to2years    )        \n",
    "print(\"MegaBytes with last modification date   2 to   3 years: \", Mbytes2to3years    )        \n",
    "print(\"MegaBytes with last modification date   3 to   5 years: \", Mbytes3to5years    )        \n",
    "print(\"MegaBytes with last modification date   5 to  99 years: \", Mbytes5to99years   ) "
   ]
  },
  {
   "cell_type": "code",
   "execution_count": 27,
   "id": "af1f8b54",
   "metadata": {},
   "outputs": [],
   "source": [
    "# convert bytes to more human-readable gigabytes for graphing\n",
    "# use int() to convert the floating point value to the nearest integer (nearest MB is close enough)\n",
    "Gbytes0to90days    = int(bytes0to90days/1024/1024/1024)\n",
    "Gbytes90to180days  = int(bytes90to180days/1024/1024/1024)\n",
    "Gbytes180to365days = int(bytes180to365days/1024/1024/1024)\n",
    "Gbytes1to2years    = int(bytes1to2years/1024/1024/1024)\n",
    "Gbytes2to3years    = int(bytes2to3years/1024/1024/1024)\n",
    "Gbytes3to5years    = int(bytes3to5years/1024/1024/1024)\n",
    "Gbytes5to99years   = int(bytes5to99years/1024/1024/1024)"
   ]
  },
  {
   "cell_type": "code",
   "execution_count": 28,
   "id": "cef1d36b",
   "metadata": {},
   "outputs": [
    {
     "name": "stdout",
     "output_type": "stream",
     "text": [
      "GigaBytes with last modification date   0 to  90  days:  3\n",
      "GigaBytes with last modification date  90 to 180  days:  33\n",
      "GigaBytes with last modification date 180 to 365  days:  5\n",
      "GigaBytes with last modification date   1 to   2 years:  8\n",
      "GigaBytes with last modification date   2 to   3 years:  0\n",
      "GigaBytes with last modification date   3 to   5 years:  52\n",
      "GigaBytes with last modification date   5 to  99 years:  91\n"
     ]
    }
   ],
   "source": [
    "print(\"GigaBytes with last modification date   0 to  90  days: \", Gbytes0to90days    )        \n",
    "print(\"GigaBytes with last modification date  90 to 180  days: \", Gbytes90to180days  )        \n",
    "print(\"GigaBytes with last modification date 180 to 365  days: \", Gbytes180to365days )        \n",
    "print(\"GigaBytes with last modification date   1 to   2 years: \", Gbytes1to2years    )        \n",
    "print(\"GigaBytes with last modification date   2 to   3 years: \", Gbytes2to3years    )        \n",
    "print(\"GigaBytes with last modification date   3 to   5 years: \", Gbytes3to5years    )        \n",
    "print(\"GigaBytes with last modification date   5 to  99 years: \", Gbytes5to99years   )        \n"
   ]
  },
  {
   "cell_type": "code",
   "execution_count": 29,
   "id": "1a2f9e48",
   "metadata": {},
   "outputs": [],
   "source": [
    "# convert bytes to more human-readable terabytes for graphing\n",
    "# use int() to convert the floating point value to the nearest integer (nearest TB is close enough)\n",
    "Tbytes0to90days    = int(bytes0to90days/1024/1024/1024/1024)\n",
    "Tbytes90to180days  = int(bytes90to180days/1024/1024/1024/1024)\n",
    "Tbytes180to365days = int(bytes180to365days/1024/1024/1024/1024)\n",
    "Tbytes1to2years    = int(bytes1to2years/1024/1024/1024/1024)\n",
    "Tbytes2to3years    = int(bytes2to3years/1024/1024/1024/1024)\n",
    "Tbytes3to5years    = int(bytes3to5years/1024/1024/1024/1024)\n",
    "Tbytes5to99years   = int(bytes5to99years/1024/1024/1024/1024)"
   ]
  },
  {
   "cell_type": "code",
   "execution_count": 30,
   "id": "b78884d3",
   "metadata": {},
   "outputs": [
    {
     "name": "stdout",
     "output_type": "stream",
     "text": [
      "TeraBytes with last modification date   0 to  90  days:  0\n",
      "TeraBytes with last modification date  90 to 180  days:  0\n",
      "TeraBytes with last modification date 180 to 365  days:  0\n",
      "TeraBytes with last modification date   1 to   2 years:  0\n",
      "TeraBytes with last modification date   2 to   3 years:  0\n",
      "TeraBytes with last modification date   3 to   5 years:  0\n",
      "TeraBytes with last modification date   5 to  99 years:  0\n"
     ]
    }
   ],
   "source": [
    "print(\"TeraBytes with last modification date   0 to  90  days: \", Tbytes0to90days    )        \n",
    "print(\"TeraBytes with last modification date  90 to 180  days: \", Tbytes90to180days  )        \n",
    "print(\"TeraBytes with last modification date 180 to 365  days: \", Tbytes180to365days )        \n",
    "print(\"TeraBytes with last modification date   1 to   2 years: \", Tbytes1to2years    )        \n",
    "print(\"TeraBytes with last modification date   2 to   3 years: \", Tbytes2to3years    )        \n",
    "print(\"TeraBytes with last modification date   3 to   5 years: \", Tbytes3to5years    )        \n",
    "print(\"TeraBytes with last modification date   5 to  99 years: \", Tbytes5to99years   )     "
   ]
  },
  {
   "cell_type": "code",
   "execution_count": 31,
   "id": "df77d111",
   "metadata": {},
   "outputs": [],
   "source": [
    "# convert bytes to more human-readable petabytes for graphing\n",
    "# use int() to convert the floating point value to the nearest integer (nearest PB is close enough)\n",
    "Pbytes0to90days    = int(bytes0to90days/1024/1024/1024/1024/1024)\n",
    "Pbytes90to180days  = int(bytes90to180days/1024/1024/1024/1024/1024)\n",
    "Pbytes180to365days = int(bytes180to365days/1024/1024/1024/1024/1024)\n",
    "Pbytes1to2years    = int(bytes1to2years/1024/1024/1024/1024/1024)\n",
    "Pbytes2to3years    = int(bytes2to3years/1024/1024/1024/1024/1024)\n",
    "Pbytes3to5years    = int(bytes3to5years/1024/1024/1024/1024/1024)\n",
    "Pbytes5to99years   = int(bytes5to99years/1024/1024/1024/1024/1024)"
   ]
  },
  {
   "cell_type": "code",
   "execution_count": 32,
   "id": "a9bd528d",
   "metadata": {},
   "outputs": [
    {
     "name": "stdout",
     "output_type": "stream",
     "text": [
      "PetaBytes with last modification date   0 to  90  days:  0\n",
      "PetaBytes with last modification date  90 to 180  days:  0\n",
      "PetaBytes with last modification date 180 to 365  days:  0\n",
      "PetaBytes with last modification date   1 to   2 years:  0\n",
      "PetaBytes with last modification date   2 to   3 years:  0\n",
      "PetaBytes with last modification date   3 to   5 years:  0\n",
      "PetaBytes with last modification date   5 to  99 years:  0\n"
     ]
    }
   ],
   "source": [
    "print(\"PetaBytes with last modification date   0 to  90  days: \", Pbytes0to90days    )        \n",
    "print(\"PetaBytes with last modification date  90 to 180  days: \", Pbytes90to180days  )        \n",
    "print(\"PetaBytes with last modification date 180 to 365  days: \", Pbytes180to365days )        \n",
    "print(\"PetaBytes with last modification date   1 to   2 years: \", Pbytes1to2years    )        \n",
    "print(\"PetaBytes with last modification date   2 to   3 years: \", Pbytes2to3years    )        \n",
    "print(\"PetaBytes with last modification date   3 to   5 years: \", Pbytes3to5years    )        \n",
    "print(\"PetaBytes with last modification date   5 to  99 years: \", Pbytes5to99years   ) "
   ]
  },
  {
   "cell_type": "code",
   "execution_count": 33,
   "id": "3698f7a0",
   "metadata": {},
   "outputs": [
    {
     "name": "stdout",
     "output_type": "stream",
     "text": [
      "Based on file sizes, the vertical y-axis units will be shown in  MegaBytes\n"
     ]
    }
   ],
   "source": [
    "# Based on the byte counts, figure out the preferred unit value (Bytes, MegaBytes, GigaBytes, TeraBytes) to use for graphing\n",
    "if (bytes0to90days  >= 0):  y_axis_units = \"Bytes\"  #start with default value of bytes\n",
    "if (Mbytes0to90days >= 10): y_axis_units = \"MegaBytes\"\n",
    "if (Gbytes0to90days >= 10): y_axis_units = \"GigaBytes\"\n",
    "if (Tbytes0to90days >= 10): y_axis_units = \"TeraBytes\"\n",
    "if (Pbytes0to90days >= 10): y_axis_units = \"PetaBytes\"\n",
    "print (\"Based on file sizes, the vertical y-axis units will be shown in \", y_axis_units)"
   ]
  },
  {
   "cell_type": "code",
   "execution_count": 34,
   "id": "3a9c0bec",
   "metadata": {},
   "outputs": [
    {
     "data": {
      "text/plain": [
       "<AxesSubplot:title={'center':'Byte counts by age'}, xlabel='Last Modification Date', ylabel='MegaBytes'>"
      ]
     },
     "execution_count": 34,
     "metadata": {},
     "output_type": "execute_result"
    },
    {
     "data": {
      "image/png": "[encoded data removed]",
      "text/plain": [
       "<Figure size 640x480 with 1 Axes>"
      ]
     },
     "metadata": {},
     "output_type": "display_data"
    }
   ],
   "source": [
    "# create a bar graph with these vertical columns:\n",
    "# bytes0to90days\n",
    "# bytes90to180days\n",
    "# bytes180to365days\n",
    "# bytes1to2years\n",
    "# bytes2to3years\n",
    "# bytes3to5years\n",
    "# bytes5to99years\n",
    "\n",
    "#\n",
    "\n",
    "# Create a Pandas series from a list of values (\"[]\") and plot it:\n",
    "#pd.Series([bytes0to90days, bytes90to180days, bytes180to365days, bytes1to2years, bytes2to3years, bytes3to5years, age5to99years]).plot(kind=\"bar\")\n",
    "#pd.Series([1, 2, 3, 4, 5, 6, 7]).plot(kind=\"bar\")\n",
    "\n",
    "# Create a sample dataframe with a text index\n",
    "if (y_axis_units == \"Bytes\"):     plotdata = pd.DataFrame({\"Bytes by Age\":     [ bytes0to90days,  bytes90to180days,  bytes180to365days,  bytes1to2years,  bytes2to3years,  bytes3to5years,  bytes5to99years]}, index=[\"0to90days\", \"90to180days\", \"180to365days\", \"1to2years\", \"2to3years\", \"3to5years\", \"5to99years\"])\n",
    "if (y_axis_units == \"MegaBytes\"): plotdata = pd.DataFrame({\"MegaBytes by Age\": [Mbytes0to90days, Mbytes90to180days, Mbytes180to365days, Mbytes1to2years, Mbytes2to3years, Mbytes3to5years, Mbytes5to99years]}, index=[\"0to90days\", \"90to180days\", \"180to365days\", \"1to2years\", \"2to3years\", \"3to5years\", \"5to99years\"])\n",
    "if (y_axis_units == \"GigaBytes\"): plotdata = pd.DataFrame({\"GigaBytes by Age\": [Gbytes0to90days, Gbytes90to180days, Gbytes180to365days, Gbytes1to2years, Gbytes2to3years, Gbytes3to5years, Gbytes5to99years]}, index=[\"0to90days\", \"90to180days\", \"180to365days\", \"1to2years\", \"2to3years\", \"3to5years\", \"5to99years\"])\n",
    "if (y_axis_units == \"TeraBytes\"): plotdata = pd.DataFrame({\"TeraBytes by Age\": [Tbytes0to90days, Tbytes90to180days, Tbytes180to365days, Tbytes1to2years, Tbytes2to3years, Tbytes3to5years, Tbytes5to99years]}, index=[\"0to90days\", \"90to180days\", \"180to365days\", \"1to2years\", \"2to3years\", \"3to5years\", \"5to99years\"])        \n",
    "if (y_axis_units == \"PetaBytes\"): plotdata = pd.DataFrame({\"PetaBytes by Age\": [Pbytes0to90days, Pbytes90to180days, Pbytes180to365days, Pbytes1to2years, Pbytes2to3years, Pbytes3to5years, Pbytes5to99years]}, index=[\"0to90days\", \"90to180days\", \"180to365days\", \"1to2years\", \"2to3years\", \"3to5years\", \"5to99years\"])        \n",
    "\n",
    "# plot the data\n",
    "plotdata.plot(kind=\"bar\",title=\"Byte counts by age\",xlabel=\"Last Modification Date\",ylabel=y_axis_units)\n",
    "\n"
   ]
  },
  {
   "cell_type": "code",
   "execution_count": 35,
   "id": "f49aef8b",
   "metadata": {},
   "outputs": [
    {
     "data": {
      "image/png": "[encoded data removed]",
      "text/plain": [
       "<Figure size 640x480 with 1 Axes>"
      ]
     },
     "metadata": {},
     "output_type": "display_data"
    }
   ],
   "source": [
    "# create pie chart using the same data as the previous bar chart\n",
    "\n",
    "labels = \"0to90days\", \"90to180days\", \"180to365days\", \"1to2years\", \"2to3years\", \"3to5years\", \"5to99years\"\n",
    "sizes  = [bytes0to90days, bytes90to180days, bytes180to365days, bytes1to2years, bytes2to3years, bytes3to5years, bytes5to99years]\n",
    "\n",
    "plt.title(\"Percentage Byte counts by age\")\n",
    "#plt.xlabel(\"Age\")\n",
    "#plt.ylabel(\"GigaBytes\")\n",
    "plt.pie(sizes, labels=labels, autopct='%1.1f%%')\n",
    "#plt.legend()\n",
    "plt.show()"
   ]
  },
  {
   "cell_type": "markdown",
   "id": "32e96926",
   "metadata": {},
   "source": [
    "# Create reports\n"
   ]
  },
  {
   "cell_type": "code",
   "execution_count": 36,
   "id": "c50e607a",
   "metadata": {},
   "outputs": [
    {
     "name": "stdout",
     "output_type": "stream",
     "text": [
      "Creating CSV output file showing all filenames with ages at: c:/temp/report_0to90days.csv\n",
      "Creating CSV output file showing all filenames with ages at: c:/temp/report_90to180days.csv\n",
      "Creating CSV output file showing all filenames with ages at: c:/temp/report_180to365days.csv\n",
      "Creating CSV output file showing all filenames with ages at: c:/temp/report_1to2years.csv\n",
      "Creating CSV output file showing all filenames with ages at: c:/temp/report_2to3years.csv\n",
      "Creating CSV output file showing all filenames with ages at: c:/temp/report_3to5years.csv\n",
      "Creating CSV output file showing all filenames with ages at: c:/temp/report_5to99years.csv\n"
     ]
    }
   ],
   "source": [
    "\n",
    "# Generate reports in CSV format showing the list of filenames, bytes, ModificationTimeDays\n",
    "\n",
    "csv_output_file = 'c:/temp/report_0to90days.csv'\n",
    "df_output_file  = df[ (df['ModificationTimeDays'] >= 0)        & (df['ModificationTimeDays'] < 90)]  \n",
    "print (\"Creating CSV output file showing all filenames with ages at:\", csv_output_file)\n",
    "df_output_file.to_csv(csv_output_file)\n",
    "\n",
    "csv_output_file = 'c:/temp/report_90to180days.csv'\n",
    "df_output_file  = df[ (df['ModificationTimeDays'] >= 90)     & (df['ModificationTimeDays'] < 180)]  \n",
    "print (\"Creating CSV output file showing all filenames with ages at:\", csv_output_file)\n",
    "df_output_file.to_csv(csv_output_file)\n",
    "\n",
    "csv_output_file = 'c:/temp/report_180to365days.csv'\n",
    "df_output_file = df[ (df['ModificationTimeDays'] >= 180)   & (df['ModificationTimeDays'] < 365)]  \n",
    "print (\"Creating CSV output file showing all filenames with ages at:\", csv_output_file)\n",
    "df_output_file.to_csv(csv_output_file)\n",
    "\n",
    "csv_output_file = 'c:/temp/report_1to2years.csv'\n",
    "df_output_file = df[ (df['ModificationTimeDays'] >= (365*1))  & (df['ModificationTimeDays'] < (365*2))]  \n",
    "print (\"Creating CSV output file showing all filenames with ages at:\", csv_output_file)\n",
    "df_output_file.to_csv(csv_output_file)\n",
    "\n",
    "csv_output_file = 'c:/temp/report_2to3years.csv'\n",
    "df_output_file = df[ (df['ModificationTimeDays'] >= (365*2))  & (df['ModificationTimeDays'] < (365*3))]  \n",
    "print (\"Creating CSV output file showing all filenames with ages at:\", csv_output_file)\n",
    "df_output_file.to_csv(csv_output_file)\n",
    "\n",
    "csv_output_file = 'c:/temp/report_3to5years.csv'\n",
    "df_output_file = df[ (df['ModificationTimeDays'] >= (365*3))  & (df['ModificationTimeDays'] < (365*5))]  \n",
    "print (\"Creating CSV output file showing all filenames with ages at:\", csv_output_file)\n",
    "df_output_file.to_csv(csv_output_file)\n",
    "\n",
    "csv_output_file = 'c:/temp/report_5to99years.csv'\n",
    "df_output_file= df[ (df['ModificationTimeDays'] >= (365*5)) & (df['ModificationTimeDays'] < (365*99))]  \n",
    "print (\"Creating CSV output file showing all filenames with ages at:\", csv_output_file)\n",
    "df_output_file.to_csv(csv_output_file)\n",
    "\n",
    "                                                               \n",
    "\n"
   ]
  },
  {
   "cell_type": "code",
   "execution_count": null,
   "id": "bcad8952",
   "metadata": {},
   "outputs": [],
   "source": []
  }
 ],
 "metadata": {
  "kernelspec": {
   "display_name": "Python 3 (ipykernel)",
   "language": "python",
   "name": "python3"
  },
  "language_info": {
   "codemirror_mode": {
    "name": "ipython",
    "version": 3
   },
   "file_extension": ".py",
   "mimetype": "text/x-python",
   "name": "python",
   "nbconvert_exporter": "python",
   "pygments_lexer": "ipython3",
   "version": "3.9.13"
  }
 },
 "nbformat": 4,
 "nbformat_minor": 5
}
