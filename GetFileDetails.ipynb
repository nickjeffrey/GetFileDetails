{
 "cells": [
  {
   "cell_type": "markdown",
   "id": "694c3c91",
   "metadata": {},
   "source": [
    "# file server age report"
   ]
  },
  {
   "cell_type": "markdown",
   "id": "217baad4",
   "metadata": {},
   "source": [
    "This jupyter notebook will take CSV data showing details about files on a network share, and generate graphs based on file size and age.\n"
   ]
  },
  {
   "cell_type": "markdown",
   "id": "d1e5aa4b",
   "metadata": {},
   "source": [
    "# 1 - import required libraries"
   ]
  },
  {
   "cell_type": "code",
   "execution_count": 1,
   "id": "b105131f",
   "metadata": {},
   "outputs": [],
   "source": [
    "import pandas as pd\n",
    "import numpy  as np\n",
    "import matplotlib.pyplot as plt\n",
    "\n"
   ]
  },
  {
   "cell_type": "markdown",
   "id": "ce12577f",
   "metadata": {},
   "source": [
    "# 2 - define CSV source data\n"
   ]
  },
  {
   "cell_type": "code",
   "execution_count": 2,
   "id": "8dffcd8b",
   "metadata": {},
   "outputs": [],
   "source": [
    "#CSV_source_file = 'https://raw.githubusercontent.com/nickjeffrey/GetFileDetails/main/filenames.csv'\n",
    "CSV_source_file = 'c:/temp/filenames.csv'\n"
   ]
  },
  {
   "cell_type": "code",
   "execution_count": 3,
   "id": "40318417",
   "metadata": {},
   "outputs": [
    {
     "name": "stdout",
     "output_type": "stream",
     "text": [
      "UTF-8\n"
     ]
    }
   ],
   "source": [
    "# determine default system character set\n",
    "import sys\n",
    "print(sys.stdout.encoding)"
   ]
  },
  {
   "cell_type": "code",
   "execution_count": 4,
   "id": "2957ef3a",
   "metadata": {},
   "outputs": [
    {
     "name": "stdout",
     "output_type": "stream",
     "text": [
      "Number of lines in the file: 1415228\n"
     ]
    }
   ],
   "source": [
    "# count the number of lines in the CSV file\n",
    "\n",
    "def count_lines(file_path):\n",
    "    try:\n",
    "        with open(file_path, 'r',encoding='utf-8') as file:\n",
    "            line_count = sum(1 for line in file)\n",
    "        return line_count\n",
    "    except FileNotFoundError:\n",
    "        print(f\"File not found: {file_path}\")\n",
    "        return 0\n",
    "    except UnicodeDecodeError:\n",
    "        # UnicodeDecodeError: 'utf-8' codec can't decode byte 0xff in position 0: invalid start byte\n",
    "        print(f\"Unable to decode the file with 'utf-8' encoding: {file_path}\")\n",
    "        print(f\"The source CSV file may have a weird character set encoding\")\n",
    "        print(f\"Try to fix with these commands from the Windows command prompt\")\n",
    "        print(f\"type sourcefilename.csv | findstr , > sourcefilename.csv.tmp\")\n",
    "        print(f\"copy sourcefilename.csv.tmp sourcefilename.csv\")\n",
    "\n",
    "# Example usage:\n",
    "file_path = CSV_source_file\n",
    "num_lines = count_lines(file_path)\n",
    "print(f\"Number of lines in the file: {num_lines}\")"
   ]
  },
  {
   "cell_type": "code",
   "execution_count": 5,
   "id": "940acbcf",
   "metadata": {},
   "outputs": [
    {
     "name": "stdout",
     "output_type": "stream",
     "text": [
      "Matching lines have been written to 'c:/temp/filenames.csv.tmp'.\n"
     ]
    }
   ],
   "source": [
    "# extract all the lines from the source file that contain at least one comma, save to new temporary file\n",
    "# this is how we eliminate any bogus lines in the source file (ie blank lines, headers, etc)\n",
    "\n",
    "\n",
    "\n",
    "\n",
    "def find_lines_with_comma(input_file_path, output_file_path):\n",
    "    try:\n",
    "        with open(input_file_path, 'r', encoding='utf-8') as input_file:\n",
    "            lines = input_file.readlines()\n",
    "\n",
    "        matching_lines = [line.strip() for line in lines if ',' in line]\n",
    "\n",
    "        with open(output_file_path, 'w', encoding='utf-8') as output_file:\n",
    "            for line in matching_lines:\n",
    "                output_file.write(line + '\\n')\n",
    "\n",
    "        print(f\"Matching lines have been written to '{output_file_path}'.\")\n",
    "\n",
    "    except FileNotFoundError:\n",
    "        print(f\"File not found: {input_file_path}\")\n",
    "    except UnicodeDecodeError:\n",
    "        print(f\"Unable to decode the file with 'utf-8' encoding: {input_file_path}\")\n",
    "        print(f\"The source CSV file may have a weird character set encoding\")\n",
    "        print(f\"Try to fix with these commands from the Windows command prompt\")\n",
    "        print(f\"type sourcefilename.csv | findstr , > sourcefilename.csv.tmp\")\n",
    "        print(f\"copy sourcefilename.csv.tmp sourcefilename.csv\")\n",
    "\n",
    "\n",
    "# Example usage:\n",
    "input_file_path = CSV_source_file\n",
    "output_file_path = input_file_path   #start with name of source file\n",
    "output_file_path += \".tmp\"           #append .tmp to filename\n",
    "find_lines_with_comma(input_file_path, output_file_path)\n",
    "\n",
    "# Now make the cleaned up file the source file that all subsequent analysis will be performed on\n",
    "CSV_source_file = output_file_path"
   ]
  },
  {
   "cell_type": "code",
   "execution_count": 6,
   "id": "66236b10",
   "metadata": {},
   "outputs": [],
   "source": [
    "# BUG ALERT: some weird filenames that contain oddball characters like \n",
    "#    embedded quotation marks or multiple commas in the filenames may \n",
    "#    not be correctly detected by the pd.read_csv directive. \n",
    "#    Figure out which files were not matched, and come up with an \"exceptions list\" for further investigation"
   ]
  },
  {
   "cell_type": "code",
   "execution_count": 7,
   "id": "f633fde9",
   "metadata": {
    "scrolled": true
   },
   "outputs": [],
   "source": [
    "# figure out the character set encoding of the source file\n",
    "\n",
    "\n",
    "#import chardet\n",
    "#from chardet.universaldetector import UniversalDetector\n",
    "\n",
    "#detector = UniversalDetector()\n",
    "#for line in open(CSV_temp_file,'rb'):\n",
    "#    detector.feed(line)\n",
    "#    if detector.done: break\n",
    "#detector.close()\n",
    "#print(detector.result)"
   ]
  },
  {
   "cell_type": "markdown",
   "id": "99d02e11",
   "metadata": {},
   "source": [
    "# 2 - Load dataset into a Pandas DataFrame"
   ]
  },
  {
   "cell_type": "code",
   "execution_count": 8,
   "id": "59961edc",
   "metadata": {},
   "outputs": [],
   "source": [
    "#df = pd.read_csv('c:/temp/filenames.csv')  \n",
    "#df = pd.read_csv('https://raw.githubusercontent.com/nickjeffrey/GetFileDetails/main/filenames.csv')\n",
    "# df = pd.read_csv(CSV_source_file, encoding='UTF-16')  \n",
    "df = pd.read_csv(CSV_source_file, on_bad_lines='skip',skip_blank_lines=True)\n",
    "\n"
   ]
  },
  {
   "cell_type": "code",
   "execution_count": 9,
   "id": "5c751410",
   "metadata": {},
   "outputs": [
    {
     "data": {
      "text/html": [
       "<div>\n",
       "<style scoped>\n",
       "    .dataframe tbody tr th:only-of-type {\n",
       "        vertical-align: middle;\n",
       "    }\n",
       "\n",
       "    .dataframe tbody tr th {\n",
       "        vertical-align: top;\n",
       "    }\n",
       "\n",
       "    .dataframe thead th {\n",
       "        text-align: right;\n",
       "    }\n",
       "</style>\n",
       "<table border=\"1\" class=\"dataframe\">\n",
       "  <thead>\n",
       "    <tr style=\"text-align: right;\">\n",
       "      <th></th>\n",
       "      <th>Filename</th>\n",
       "      <th>Bytes</th>\n",
       "      <th>MegaBytes</th>\n",
       "      <th>GigaBytes</th>\n",
       "      <th>CreationTimeEpoch</th>\n",
       "      <th>DaysSinceCreation</th>\n",
       "      <th>AccessTimeEpoch</th>\n",
       "      <th>DaysSinceAccess</th>\n",
       "      <th>LastWriteTimeEpoch</th>\n",
       "      <th>DaysSinceModification</th>\n",
       "      <th>MD5sum</th>\n",
       "    </tr>\n",
       "  </thead>\n",
       "  <tbody>\n",
       "    <tr>\n",
       "      <th>0</th>\n",
       "      <td>s:\\2-METRICS MANAGEMENT\\0_Archive\\Chapter.pdf</td>\n",
       "      <td>90864</td>\n",
       "      <td>0</td>\n",
       "      <td>0</td>\n",
       "      <td>1412586006</td>\n",
       "      <td>3206</td>\n",
       "      <td>1539075777</td>\n",
       "      <td>1742</td>\n",
       "      <td>1412586006</td>\n",
       "      <td>3206</td>\n",
       "      <td>0</td>\n",
       "    </tr>\n",
       "    <tr>\n",
       "      <th>1</th>\n",
       "      <td>s:\\2-METRICS MANAGEMENT\\0_Archive\\CompletionsS...</td>\n",
       "      <td>9838846</td>\n",
       "      <td>9</td>\n",
       "      <td>0</td>\n",
       "      <td>1358864878</td>\n",
       "      <td>3828</td>\n",
       "      <td>1553786996</td>\n",
       "      <td>1572</td>\n",
       "      <td>1358864874</td>\n",
       "      <td>3828</td>\n",
       "      <td>0</td>\n",
       "    </tr>\n",
       "    <tr>\n",
       "      <th>2</th>\n",
       "      <td>s:\\2-METRICS MANAGEMENT\\0_Archive\\f.txt</td>\n",
       "      <td>1127237</td>\n",
       "      <td>1</td>\n",
       "      <td>0</td>\n",
       "      <td>1340717505</td>\n",
       "      <td>4038</td>\n",
       "      <td>1539075777</td>\n",
       "      <td>1742</td>\n",
       "      <td>1340717505</td>\n",
       "      <td>4038</td>\n",
       "      <td>0</td>\n",
       "    </tr>\n",
       "    <tr>\n",
       "      <th>3</th>\n",
       "      <td>s:\\2-METRICS MANAGEMENT\\0_Archive\\sql_summary.txt</td>\n",
       "      <td>9746</td>\n",
       "      <td>0</td>\n",
       "      <td>0</td>\n",
       "      <td>1348068859</td>\n",
       "      <td>3953</td>\n",
       "      <td>1539075777</td>\n",
       "      <td>1742</td>\n",
       "      <td>1348068873</td>\n",
       "      <td>3953</td>\n",
       "      <td>0</td>\n",
       "    </tr>\n",
       "    <tr>\n",
       "      <th>4</th>\n",
       "      <td>s:\\2-METRICS MANAGEMENT\\0_Archive\\0_FINAL_SUBV...</td>\n",
       "      <td>343</td>\n",
       "      <td>0</td>\n",
       "      <td>0</td>\n",
       "      <td>1524132113</td>\n",
       "      <td>1915</td>\n",
       "      <td>1536049655</td>\n",
       "      <td>1777</td>\n",
       "      <td>1524132285</td>\n",
       "      <td>1915</td>\n",
       "      <td>0</td>\n",
       "    </tr>\n",
       "  </tbody>\n",
       "</table>\n",
       "</div>"
      ],
      "text/plain": [
       "                                            Filename    Bytes  MegaBytes  \\\n",
       "0      s:\\2-METRICS MANAGEMENT\\0_Archive\\Chapter.pdf    90864          0   \n",
       "1  s:\\2-METRICS MANAGEMENT\\0_Archive\\CompletionsS...  9838846          9   \n",
       "2            s:\\2-METRICS MANAGEMENT\\0_Archive\\f.txt  1127237          1   \n",
       "3  s:\\2-METRICS MANAGEMENT\\0_Archive\\sql_summary.txt     9746          0   \n",
       "4  s:\\2-METRICS MANAGEMENT\\0_Archive\\0_FINAL_SUBV...      343          0   \n",
       "\n",
       "   GigaBytes  CreationTimeEpoch  DaysSinceCreation  AccessTimeEpoch  \\\n",
       "0          0         1412586006               3206       1539075777   \n",
       "1          0         1358864878               3828       1553786996   \n",
       "2          0         1340717505               4038       1539075777   \n",
       "3          0         1348068859               3953       1539075777   \n",
       "4          0         1524132113               1915       1536049655   \n",
       "\n",
       "   DaysSinceAccess  LastWriteTimeEpoch  DaysSinceModification  MD5sum  \n",
       "0             1742          1412586006                   3206       0  \n",
       "1             1572          1358864874                   3828       0  \n",
       "2             1742          1340717505                   4038       0  \n",
       "3             1742          1348068873                   3953       0  \n",
       "4             1777          1524132285                   1915       0  "
      ]
     },
     "execution_count": 9,
     "metadata": {},
     "output_type": "execute_result"
    }
   ],
   "source": [
    "# look at the top few rows of the data to confirm the labels are correct\n",
    "df.head()"
   ]
  },
  {
   "cell_type": "code",
   "execution_count": 10,
   "id": "8c28cacf",
   "metadata": {
    "scrolled": true
   },
   "outputs": [
    {
     "data": {
      "text/html": [
       "<div>\n",
       "<style scoped>\n",
       "    .dataframe tbody tr th:only-of-type {\n",
       "        vertical-align: middle;\n",
       "    }\n",
       "\n",
       "    .dataframe tbody tr th {\n",
       "        vertical-align: top;\n",
       "    }\n",
       "\n",
       "    .dataframe thead th {\n",
       "        text-align: right;\n",
       "    }\n",
       "</style>\n",
       "<table border=\"1\" class=\"dataframe\">\n",
       "  <thead>\n",
       "    <tr style=\"text-align: right;\">\n",
       "      <th></th>\n",
       "      <th>Filename</th>\n",
       "      <th>Bytes</th>\n",
       "      <th>MegaBytes</th>\n",
       "      <th>GigaBytes</th>\n",
       "      <th>CreationTimeEpoch</th>\n",
       "      <th>DaysSinceCreation</th>\n",
       "      <th>AccessTimeEpoch</th>\n",
       "      <th>DaysSinceAccess</th>\n",
       "      <th>LastWriteTimeEpoch</th>\n",
       "      <th>DaysSinceModification</th>\n",
       "      <th>MD5sum</th>\n",
       "    </tr>\n",
       "  </thead>\n",
       "  <tbody>\n",
       "    <tr>\n",
       "      <th>1415222</th>\n",
       "      <td>s:\\Warehouse-OL\\x OLD\\x Reports for PrintShop\\...</td>\n",
       "      <td>70436</td>\n",
       "      <td>0</td>\n",
       "      <td>0</td>\n",
       "      <td>1367936752</td>\n",
       "      <td>3723</td>\n",
       "      <td>1367938783</td>\n",
       "      <td>3723</td>\n",
       "      <td>1367936752</td>\n",
       "      <td>3723</td>\n",
       "      <td>0</td>\n",
       "    </tr>\n",
       "    <tr>\n",
       "      <th>1415223</th>\n",
       "      <td>s:\\Warehouse-OL\\x OLD\\x Reports for PrintShop\\...</td>\n",
       "      <td>619865</td>\n",
       "      <td>1</td>\n",
       "      <td>0</td>\n",
       "      <td>1367936620</td>\n",
       "      <td>3723</td>\n",
       "      <td>1367936908</td>\n",
       "      <td>3723</td>\n",
       "      <td>1367936621</td>\n",
       "      <td>3723</td>\n",
       "      <td>0</td>\n",
       "    </tr>\n",
       "    <tr>\n",
       "      <th>1415224</th>\n",
       "      <td>s:\\Warehouse-OL\\x OLD\\x Reports for PrintShop\\...</td>\n",
       "      <td>274268</td>\n",
       "      <td>0</td>\n",
       "      <td>0</td>\n",
       "      <td>1367936600</td>\n",
       "      <td>3723</td>\n",
       "      <td>1443095099</td>\n",
       "      <td>2853</td>\n",
       "      <td>1367936600</td>\n",
       "      <td>3723</td>\n",
       "      <td>0</td>\n",
       "    </tr>\n",
       "    <tr>\n",
       "      <th>1415225</th>\n",
       "      <td>s:\\Warehouse-OL\\x OLD\\x Reports for PrintShop\\...</td>\n",
       "      <td>530038</td>\n",
       "      <td>1</td>\n",
       "      <td>0</td>\n",
       "      <td>1367937002</td>\n",
       "      <td>3723</td>\n",
       "      <td>1397656086</td>\n",
       "      <td>3379</td>\n",
       "      <td>1367937002</td>\n",
       "      <td>3723</td>\n",
       "      <td>0</td>\n",
       "    </tr>\n",
       "    <tr>\n",
       "      <th>1415226</th>\n",
       "      <td>s:\\Warehouse-OL\\x OLD\\x Reports for PrintShop\\...</td>\n",
       "      <td>149341</td>\n",
       "      <td>0</td>\n",
       "      <td>0</td>\n",
       "      <td>1367936987</td>\n",
       "      <td>3723</td>\n",
       "      <td>1407336700</td>\n",
       "      <td>3267</td>\n",
       "      <td>1367936987</td>\n",
       "      <td>3723</td>\n",
       "      <td>0</td>\n",
       "    </tr>\n",
       "  </tbody>\n",
       "</table>\n",
       "</div>"
      ],
      "text/plain": [
       "                                                  Filename   Bytes  MegaBytes  \\\n",
       "1415222  s:\\Warehouse-OL\\x OLD\\x Reports for PrintShop\\...   70436          0   \n",
       "1415223  s:\\Warehouse-OL\\x OLD\\x Reports for PrintShop\\...  619865          1   \n",
       "1415224  s:\\Warehouse-OL\\x OLD\\x Reports for PrintShop\\...  274268          0   \n",
       "1415225  s:\\Warehouse-OL\\x OLD\\x Reports for PrintShop\\...  530038          1   \n",
       "1415226  s:\\Warehouse-OL\\x OLD\\x Reports for PrintShop\\...  149341          0   \n",
       "\n",
       "         GigaBytes  CreationTimeEpoch  DaysSinceCreation  AccessTimeEpoch  \\\n",
       "1415222          0         1367936752               3723       1367938783   \n",
       "1415223          0         1367936620               3723       1367936908   \n",
       "1415224          0         1367936600               3723       1443095099   \n",
       "1415225          0         1367937002               3723       1397656086   \n",
       "1415226          0         1367936987               3723       1407336700   \n",
       "\n",
       "         DaysSinceAccess  LastWriteTimeEpoch  DaysSinceModification  MD5sum  \n",
       "1415222             3723          1367936752                   3723       0  \n",
       "1415223             3723          1367936621                   3723       0  \n",
       "1415224             2853          1367936600                   3723       0  \n",
       "1415225             3379          1367937002                   3723       0  \n",
       "1415226             3267          1367936987                   3723       0  "
      ]
     },
     "execution_count": 10,
     "metadata": {},
     "output_type": "execute_result"
    }
   ],
   "source": [
    "# look at the bottom few rows of the data \n",
    "df.tail()"
   ]
  },
  {
   "cell_type": "code",
   "execution_count": 11,
   "id": "bbacb227",
   "metadata": {},
   "outputs": [
    {
     "name": "stdout",
     "output_type": "stream",
     "text": [
      "Rows in dataset: 1415227\n"
     ]
    }
   ],
   "source": [
    "# show number of rows in dataset\n",
    "print (\"Rows in dataset:\", len(df))"
   ]
  },
  {
   "cell_type": "code",
   "execution_count": 12,
   "id": "87269986",
   "metadata": {},
   "outputs": [
    {
     "name": "stdout",
     "output_type": "stream",
     "text": [
      "Rows,columns in dataset: (1415227, 11)\n"
     ]
    }
   ],
   "source": [
    "#view dimensions of dataset (rows and columns)\n",
    "print (\"Rows,columns in dataset:\", df.shape)"
   ]
  },
  {
   "cell_type": "code",
   "execution_count": 13,
   "id": "0ddde40a",
   "metadata": {},
   "outputs": [
    {
     "data": {
      "text/plain": [
       "Filename                 0\n",
       "Bytes                    0\n",
       "MegaBytes                0\n",
       "GigaBytes                0\n",
       "CreationTimeEpoch        0\n",
       "DaysSinceCreation        0\n",
       "AccessTimeEpoch          0\n",
       "DaysSinceAccess          0\n",
       "LastWriteTimeEpoch       0\n",
       "DaysSinceModification    0\n",
       "MD5sum                   0\n",
       "dtype: int64"
      ]
     },
     "execution_count": 13,
     "metadata": {},
     "output_type": "execute_result"
    }
   ],
   "source": [
    "# check to see if there are any missing values from the dataset\n",
    "\n",
    "# all of the results should be zero, which would indicate there are not any null values in the dataset\n",
    "# if there are any results greater than zero, it would indicate that some pieces of data are missing and should be cleaned up.\n",
    "df.isnull().sum()"
   ]
  },
  {
   "cell_type": "code",
   "execution_count": 14,
   "id": "d367b92e",
   "metadata": {},
   "outputs": [
    {
     "data": {
      "image/png": "[encoded data removed]",
      "text/plain": [
       "<Figure size 640x480 with 1 Axes>"
      ]
     },
     "metadata": {},
     "output_type": "display_data"
    }
   ],
   "source": [
    "# visualize any missing values from the dataset in a histogram\n",
    "# you want all the bars in the graph to be empty, which would indicate zero missing values\n",
    "\n",
    "df.isnull().sum().plot.bar()\n",
    "plt.show()"
   ]
  },
  {
   "cell_type": "code",
   "execution_count": 15,
   "id": "3b21a631",
   "metadata": {},
   "outputs": [
    {
     "name": "stdout",
     "output_type": "stream",
     "text": [
      "Checking for missing values in data set\n",
      "No NAs found\n"
     ]
    }
   ],
   "source": [
    "# another method to visalize missing values from dataset\n",
    "\n",
    "print (\"Checking for missing values in data set\")\n",
    "\n",
    "import matplotlib.pyplot as plt\n",
    "def plot_nas(df: pd.DataFrame):\n",
    "    if df.isnull().sum().sum() != 0:\n",
    "        na_df = (df.isnull().sum() / len(df)) * 100      \n",
    "        na_df = na_df.drop(na_df[na_df == 0].index).sort_values(ascending=False)\n",
    "        missing_data = pd.DataFrame({'Missing Ratio %' :na_df})\n",
    "        missing_data.plot(kind = \"barh\")\n",
    "        plt.show()\n",
    "    else:\n",
    "        print('No NAs found')\n",
    "plot_nas(df)\n"
   ]
  },
  {
   "cell_type": "code",
   "execution_count": 16,
   "id": "f8d06631",
   "metadata": {},
   "outputs": [
    {
     "data": {
      "text/plain": [
       "Index(['Filename', 'Bytes', 'MegaBytes', 'GigaBytes', 'CreationTimeEpoch',\n",
       "       'DaysSinceCreation', 'AccessTimeEpoch', 'DaysSinceAccess',\n",
       "       'LastWriteTimeEpoch', 'DaysSinceModification', 'MD5sum'],\n",
       "      dtype='object')"
      ]
     },
     "execution_count": 16,
     "metadata": {},
     "output_type": "execute_result"
    }
   ],
   "source": [
    "#show the names of the columns (also called feature names)\n",
    "df.columns"
   ]
  },
  {
   "cell_type": "code",
   "execution_count": 17,
   "id": "c4b3e610",
   "metadata": {},
   "outputs": [
    {
     "name": "stdout",
     "output_type": "stream",
     "text": [
      "<class 'pandas.core.frame.DataFrame'>\n",
      "RangeIndex: 1415227 entries, 0 to 1415226\n",
      "Data columns (total 11 columns):\n",
      " #   Column                 Non-Null Count    Dtype \n",
      "---  ------                 --------------    ----- \n",
      " 0   Filename               1415227 non-null  object\n",
      " 1   Bytes                  1415227 non-null  int64 \n",
      " 2   MegaBytes              1415227 non-null  int64 \n",
      " 3   GigaBytes              1415227 non-null  int64 \n",
      " 4   CreationTimeEpoch      1415227 non-null  int64 \n",
      " 5   DaysSinceCreation      1415227 non-null  int64 \n",
      " 6   AccessTimeEpoch        1415227 non-null  int64 \n",
      " 7   DaysSinceAccess        1415227 non-null  int64 \n",
      " 8   LastWriteTimeEpoch     1415227 non-null  int64 \n",
      " 9   DaysSinceModification  1415227 non-null  int64 \n",
      " 10  MD5sum                 1415227 non-null  int64 \n",
      "dtypes: int64(10), object(1)\n",
      "memory usage: 118.8+ MB\n"
     ]
    }
   ],
   "source": [
    "#show summary info about dataset\n",
    "df.info()"
   ]
  },
  {
   "cell_type": "code",
   "execution_count": 18,
   "id": "607d0ca7",
   "metadata": {},
   "outputs": [
    {
     "data": {
      "text/plain": [
       "Filename                 object\n",
       "Bytes                     int64\n",
       "MegaBytes                 int64\n",
       "GigaBytes                 int64\n",
       "CreationTimeEpoch         int64\n",
       "DaysSinceCreation         int64\n",
       "AccessTimeEpoch           int64\n",
       "DaysSinceAccess           int64\n",
       "LastWriteTimeEpoch        int64\n",
       "DaysSinceModification     int64\n",
       "MD5sum                    int64\n",
       "dtype: object"
      ]
     },
     "execution_count": 18,
     "metadata": {},
     "output_type": "execute_result"
    }
   ],
   "source": [
    "# show data types \n",
    "df.dtypes"
   ]
  },
  {
   "cell_type": "markdown",
   "id": "b851fc35",
   "metadata": {},
   "source": [
    "# rename features"
   ]
  },
  {
   "cell_type": "code",
   "execution_count": 19,
   "id": "bb171850",
   "metadata": {},
   "outputs": [],
   "source": [
    "# rename some features that have incorrect names\n",
    "\n",
    "if 'DaysSinceCreation'     in df.columns: df.rename(columns={'DaysSinceCreation'     : 'CreationTimeDays'     }, inplace=True)\n",
    "if 'DaysSinceAccess'       in df.columns: df.rename(columns={'DaysSinceAccess'       : 'AccessTimeDays'       }, inplace=True)\n",
    "if 'DaysSinceModification' in df.columns: df.rename(columns={'DaysSinceModification' : 'ModificationTimeDays' }, inplace=True)\n",
    "if 'LastWriteTimeEpoch'    in df.columns: df.rename(columns={'LastWriteTimeEpoch'    : 'ModificationTimeEpoch'}, inplace=True)"
   ]
  },
  {
   "cell_type": "code",
   "execution_count": 20,
   "id": "93a8b980",
   "metadata": {},
   "outputs": [
    {
     "data": {
      "text/html": [
       "<div>\n",
       "<style scoped>\n",
       "    .dataframe tbody tr th:only-of-type {\n",
       "        vertical-align: middle;\n",
       "    }\n",
       "\n",
       "    .dataframe tbody tr th {\n",
       "        vertical-align: top;\n",
       "    }\n",
       "\n",
       "    .dataframe thead th {\n",
       "        text-align: right;\n",
       "    }\n",
       "</style>\n",
       "<table border=\"1\" class=\"dataframe\">\n",
       "  <thead>\n",
       "    <tr style=\"text-align: right;\">\n",
       "      <th></th>\n",
       "      <th>Filename</th>\n",
       "      <th>Bytes</th>\n",
       "      <th>MegaBytes</th>\n",
       "      <th>GigaBytes</th>\n",
       "      <th>CreationTimeEpoch</th>\n",
       "      <th>CreationTimeDays</th>\n",
       "      <th>AccessTimeEpoch</th>\n",
       "      <th>AccessTimeDays</th>\n",
       "      <th>ModificationTimeEpoch</th>\n",
       "      <th>ModificationTimeDays</th>\n",
       "      <th>MD5sum</th>\n",
       "    </tr>\n",
       "  </thead>\n",
       "  <tbody>\n",
       "    <tr>\n",
       "      <th>0</th>\n",
       "      <td>s:\\2-METRICS MANAGEMENT\\0_Archive\\Chapter.pdf</td>\n",
       "      <td>90864</td>\n",
       "      <td>0</td>\n",
       "      <td>0</td>\n",
       "      <td>1412586006</td>\n",
       "      <td>3206</td>\n",
       "      <td>1539075777</td>\n",
       "      <td>1742</td>\n",
       "      <td>1412586006</td>\n",
       "      <td>3206</td>\n",
       "      <td>0</td>\n",
       "    </tr>\n",
       "    <tr>\n",
       "      <th>1</th>\n",
       "      <td>s:\\2-METRICS MANAGEMENT\\0_Archive\\CompletionsS...</td>\n",
       "      <td>9838846</td>\n",
       "      <td>9</td>\n",
       "      <td>0</td>\n",
       "      <td>1358864878</td>\n",
       "      <td>3828</td>\n",
       "      <td>1553786996</td>\n",
       "      <td>1572</td>\n",
       "      <td>1358864874</td>\n",
       "      <td>3828</td>\n",
       "      <td>0</td>\n",
       "    </tr>\n",
       "    <tr>\n",
       "      <th>2</th>\n",
       "      <td>s:\\2-METRICS MANAGEMENT\\0_Archive\\f.txt</td>\n",
       "      <td>1127237</td>\n",
       "      <td>1</td>\n",
       "      <td>0</td>\n",
       "      <td>1340717505</td>\n",
       "      <td>4038</td>\n",
       "      <td>1539075777</td>\n",
       "      <td>1742</td>\n",
       "      <td>1340717505</td>\n",
       "      <td>4038</td>\n",
       "      <td>0</td>\n",
       "    </tr>\n",
       "    <tr>\n",
       "      <th>3</th>\n",
       "      <td>s:\\2-METRICS MANAGEMENT\\0_Archive\\sql_summary.txt</td>\n",
       "      <td>9746</td>\n",
       "      <td>0</td>\n",
       "      <td>0</td>\n",
       "      <td>1348068859</td>\n",
       "      <td>3953</td>\n",
       "      <td>1539075777</td>\n",
       "      <td>1742</td>\n",
       "      <td>1348068873</td>\n",
       "      <td>3953</td>\n",
       "      <td>0</td>\n",
       "    </tr>\n",
       "    <tr>\n",
       "      <th>4</th>\n",
       "      <td>s:\\2-METRICS MANAGEMENT\\0_Archive\\0_FINAL_SUBV...</td>\n",
       "      <td>343</td>\n",
       "      <td>0</td>\n",
       "      <td>0</td>\n",
       "      <td>1524132113</td>\n",
       "      <td>1915</td>\n",
       "      <td>1536049655</td>\n",
       "      <td>1777</td>\n",
       "      <td>1524132285</td>\n",
       "      <td>1915</td>\n",
       "      <td>0</td>\n",
       "    </tr>\n",
       "  </tbody>\n",
       "</table>\n",
       "</div>"
      ],
      "text/plain": [
       "                                            Filename    Bytes  MegaBytes  \\\n",
       "0      s:\\2-METRICS MANAGEMENT\\0_Archive\\Chapter.pdf    90864          0   \n",
       "1  s:\\2-METRICS MANAGEMENT\\0_Archive\\CompletionsS...  9838846          9   \n",
       "2            s:\\2-METRICS MANAGEMENT\\0_Archive\\f.txt  1127237          1   \n",
       "3  s:\\2-METRICS MANAGEMENT\\0_Archive\\sql_summary.txt     9746          0   \n",
       "4  s:\\2-METRICS MANAGEMENT\\0_Archive\\0_FINAL_SUBV...      343          0   \n",
       "\n",
       "   GigaBytes  CreationTimeEpoch  CreationTimeDays  AccessTimeEpoch  \\\n",
       "0          0         1412586006              3206       1539075777   \n",
       "1          0         1358864878              3828       1553786996   \n",
       "2          0         1340717505              4038       1539075777   \n",
       "3          0         1348068859              3953       1539075777   \n",
       "4          0         1524132113              1915       1536049655   \n",
       "\n",
       "   AccessTimeDays  ModificationTimeEpoch  ModificationTimeDays  MD5sum  \n",
       "0            1742             1412586006                  3206       0  \n",
       "1            1572             1358864874                  3828       0  \n",
       "2            1742             1340717505                  4038       0  \n",
       "3            1742             1348068873                  3953       0  \n",
       "4            1777             1524132285                  1915       0  "
      ]
     },
     "execution_count": 20,
     "metadata": {},
     "output_type": "execute_result"
    }
   ],
   "source": [
    "# look at the top few rows of the data to confirm the labels are correct\n",
    "df.head()"
   ]
  },
  {
   "cell_type": "markdown",
   "id": "eb718263",
   "metadata": {},
   "source": [
    "# 3 - dimensionality reduction by removing features "
   ]
  },
  {
   "cell_type": "markdown",
   "id": "ebd8cbbb",
   "metadata": {},
   "source": [
    "In this example, we are dropping some of the columns from the dataset that are not useful.\n",
    "Please note that this is more of a \"data science\" exercise than a machine learning exercise, so it isn't that these features have no predictive value for a ML algorithm.\n"
   ]
  },
  {
   "cell_type": "code",
   "execution_count": 21,
   "id": "b20eaf80",
   "metadata": {},
   "outputs": [],
   "source": [
    "# drop any redundant columns from the dataset which does not have any predictive power. \n",
    "\n",
    "#In this example, we have features for bytes,MegaBytes, Gigabytes.\n",
    "# We really only need the bytes column, so get rid of the other two.\n",
    "if 'MegaBytes' in df.columns: df.drop('MegaBytes', axis=1, inplace=True)\n",
    "if 'GigaBytes' in df.columns: df.drop('GigaBytes', axis=1, inplace=True)\n",
    "\n",
    "\n",
    "# we really only care about the ModificationTimeDays, so drop the other timestamps\n",
    "if 'CreationTimeEpoch'     in df.columns: df.drop('CreationTimeEpoch',     axis=1, inplace=True)\n",
    "if 'CreationTimeDays'      in df.columns: df.drop('CreationTimeDays',      axis=1, inplace=True)\n",
    "if 'AccessTimeEpoch'       in df.columns: df.drop('AccessTimeEpoch',       axis=1, inplace=True)\n",
    "if 'AccessTimeDays'        in df.columns: df.drop('AccessTimeDays',        axis=1, inplace=True)\n",
    "if 'ModificationTimeEpoch' in df.columns: df.drop('ModificationTimeEpoch', axis=1, inplace=True)\n",
    "\n",
    "# There is a column for the MD5 checksum of each file, but at the moment, we only care about file age, so drop MD5sum\n",
    "if 'MD5sum' in df.columns: df.drop('MD5sum', axis=1, inplace=True)\n",
    "\n"
   ]
  },
  {
   "cell_type": "code",
   "execution_count": 22,
   "id": "84002d8c",
   "metadata": {},
   "outputs": [
    {
     "name": "stdout",
     "output_type": "stream",
     "text": [
      "<class 'pandas.core.frame.DataFrame'>\n",
      "RangeIndex: 1415227 entries, 0 to 1415226\n",
      "Data columns (total 3 columns):\n",
      " #   Column                Non-Null Count    Dtype \n",
      "---  ------                --------------    ----- \n",
      " 0   Filename              1415227 non-null  object\n",
      " 1   Bytes                 1415227 non-null  int64 \n",
      " 2   ModificationTimeDays  1415227 non-null  int64 \n",
      "dtypes: int64(2), object(1)\n",
      "memory usage: 32.4+ MB\n"
     ]
    }
   ],
   "source": [
    "#Look at the dataset again, you should see several columns have been dropped\n",
    "df.info()"
   ]
  },
  {
   "cell_type": "code",
   "execution_count": 23,
   "id": "593b3497",
   "metadata": {},
   "outputs": [
    {
     "data": {
      "text/html": [
       "<div>\n",
       "<style scoped>\n",
       "    .dataframe tbody tr th:only-of-type {\n",
       "        vertical-align: middle;\n",
       "    }\n",
       "\n",
       "    .dataframe tbody tr th {\n",
       "        vertical-align: top;\n",
       "    }\n",
       "\n",
       "    .dataframe thead th {\n",
       "        text-align: right;\n",
       "    }\n",
       "</style>\n",
       "<table border=\"1\" class=\"dataframe\">\n",
       "  <thead>\n",
       "    <tr style=\"text-align: right;\">\n",
       "      <th></th>\n",
       "      <th>Filename</th>\n",
       "      <th>Bytes</th>\n",
       "      <th>ModificationTimeDays</th>\n",
       "    </tr>\n",
       "  </thead>\n",
       "  <tbody>\n",
       "    <tr>\n",
       "      <th>0</th>\n",
       "      <td>s:\\2-METRICS MANAGEMENT\\0_Archive\\Chapter.pdf</td>\n",
       "      <td>90864</td>\n",
       "      <td>3206</td>\n",
       "    </tr>\n",
       "    <tr>\n",
       "      <th>1</th>\n",
       "      <td>s:\\2-METRICS MANAGEMENT\\0_Archive\\CompletionsS...</td>\n",
       "      <td>9838846</td>\n",
       "      <td>3828</td>\n",
       "    </tr>\n",
       "    <tr>\n",
       "      <th>2</th>\n",
       "      <td>s:\\2-METRICS MANAGEMENT\\0_Archive\\f.txt</td>\n",
       "      <td>1127237</td>\n",
       "      <td>4038</td>\n",
       "    </tr>\n",
       "    <tr>\n",
       "      <th>3</th>\n",
       "      <td>s:\\2-METRICS MANAGEMENT\\0_Archive\\sql_summary.txt</td>\n",
       "      <td>9746</td>\n",
       "      <td>3953</td>\n",
       "    </tr>\n",
       "    <tr>\n",
       "      <th>4</th>\n",
       "      <td>s:\\2-METRICS MANAGEMENT\\0_Archive\\0_FINAL_SUBV...</td>\n",
       "      <td>343</td>\n",
       "      <td>1915</td>\n",
       "    </tr>\n",
       "  </tbody>\n",
       "</table>\n",
       "</div>"
      ],
      "text/plain": [
       "                                            Filename    Bytes  \\\n",
       "0      s:\\2-METRICS MANAGEMENT\\0_Archive\\Chapter.pdf    90864   \n",
       "1  s:\\2-METRICS MANAGEMENT\\0_Archive\\CompletionsS...  9838846   \n",
       "2            s:\\2-METRICS MANAGEMENT\\0_Archive\\f.txt  1127237   \n",
       "3  s:\\2-METRICS MANAGEMENT\\0_Archive\\sql_summary.txt     9746   \n",
       "4  s:\\2-METRICS MANAGEMENT\\0_Archive\\0_FINAL_SUBV...      343   \n",
       "\n",
       "   ModificationTimeDays  \n",
       "0                  3206  \n",
       "1                  3828  \n",
       "2                  4038  \n",
       "3                  3953  \n",
       "4                  1915  "
      ]
     },
     "execution_count": 23,
     "metadata": {},
     "output_type": "execute_result"
    }
   ],
   "source": [
    "# At this point, we have 3 columns: Filename, Bytes, ModificationTimeDays\n",
    "# look at the top few rows of the data to confirm the labels are correct\n",
    "df.head()"
   ]
  },
  {
   "cell_type": "code",
   "execution_count": 24,
   "id": "54d20966",
   "metadata": {},
   "outputs": [],
   "source": [
    "# drop rows to make the dataset a bit faster during testing\n",
    "# Let's say we want to drop all rows between indices 10000 and 999999 inclusive. \n",
    "# We can do this with the drop() function and the range() function to generate the indices:\n",
    "# df.drop(range(10000, 1000000), inplace=True)"
   ]
  },
  {
   "cell_type": "code",
   "execution_count": 25,
   "id": "d884b21c",
   "metadata": {},
   "outputs": [
    {
     "name": "stdout",
     "output_type": "stream",
     "text": [
      "Rows,columns in dataset: (1415227, 3)\n"
     ]
    }
   ],
   "source": [
    "#view dimensions of dataset (rows and columns)\n",
    "print (\"Rows,columns in dataset:\", df.shape)"
   ]
  },
  {
   "cell_type": "code",
   "execution_count": 26,
   "id": "8c9379a7",
   "metadata": {},
   "outputs": [
    {
     "data": {
      "text/html": [
       "<div>\n",
       "<style scoped>\n",
       "    .dataframe tbody tr th:only-of-type {\n",
       "        vertical-align: middle;\n",
       "    }\n",
       "\n",
       "    .dataframe tbody tr th {\n",
       "        vertical-align: top;\n",
       "    }\n",
       "\n",
       "    .dataframe thead th {\n",
       "        text-align: right;\n",
       "    }\n",
       "</style>\n",
       "<table border=\"1\" class=\"dataframe\">\n",
       "  <thead>\n",
       "    <tr style=\"text-align: right;\">\n",
       "      <th></th>\n",
       "      <th>Filename</th>\n",
       "      <th>Bytes</th>\n",
       "      <th>ModificationTimeDays</th>\n",
       "    </tr>\n",
       "  </thead>\n",
       "  <tbody>\n",
       "    <tr>\n",
       "      <th>1415222</th>\n",
       "      <td>s:\\Warehouse-OL\\x OLD\\x Reports for PrintShop\\...</td>\n",
       "      <td>70436</td>\n",
       "      <td>3723</td>\n",
       "    </tr>\n",
       "    <tr>\n",
       "      <th>1415223</th>\n",
       "      <td>s:\\Warehouse-OL\\x OLD\\x Reports for PrintShop\\...</td>\n",
       "      <td>619865</td>\n",
       "      <td>3723</td>\n",
       "    </tr>\n",
       "    <tr>\n",
       "      <th>1415224</th>\n",
       "      <td>s:\\Warehouse-OL\\x OLD\\x Reports for PrintShop\\...</td>\n",
       "      <td>274268</td>\n",
       "      <td>3723</td>\n",
       "    </tr>\n",
       "    <tr>\n",
       "      <th>1415225</th>\n",
       "      <td>s:\\Warehouse-OL\\x OLD\\x Reports for PrintShop\\...</td>\n",
       "      <td>530038</td>\n",
       "      <td>3723</td>\n",
       "    </tr>\n",
       "    <tr>\n",
       "      <th>1415226</th>\n",
       "      <td>s:\\Warehouse-OL\\x OLD\\x Reports for PrintShop\\...</td>\n",
       "      <td>149341</td>\n",
       "      <td>3723</td>\n",
       "    </tr>\n",
       "  </tbody>\n",
       "</table>\n",
       "</div>"
      ],
      "text/plain": [
       "                                                  Filename   Bytes  \\\n",
       "1415222  s:\\Warehouse-OL\\x OLD\\x Reports for PrintShop\\...   70436   \n",
       "1415223  s:\\Warehouse-OL\\x OLD\\x Reports for PrintShop\\...  619865   \n",
       "1415224  s:\\Warehouse-OL\\x OLD\\x Reports for PrintShop\\...  274268   \n",
       "1415225  s:\\Warehouse-OL\\x OLD\\x Reports for PrintShop\\...  530038   \n",
       "1415226  s:\\Warehouse-OL\\x OLD\\x Reports for PrintShop\\...  149341   \n",
       "\n",
       "         ModificationTimeDays  \n",
       "1415222                  3723  \n",
       "1415223                  3723  \n",
       "1415224                  3723  \n",
       "1415225                  3723  \n",
       "1415226                  3723  "
      ]
     },
     "execution_count": 26,
     "metadata": {},
     "output_type": "execute_result"
    }
   ],
   "source": [
    "# At this point, we have 3 columns: Filename, Bytes, ModificationTimeDays\n",
    "# look at the bottom few rows of the data to confirm the labels are correct\n",
    "df.tail()"
   ]
  },
  {
   "cell_type": "markdown",
   "id": "dcdcf628",
   "metadata": {},
   "source": [
    "# 4 - Categorize filenames by age"
   ]
  },
  {
   "cell_type": "code",
   "execution_count": 27,
   "id": "5910711d",
   "metadata": {},
   "outputs": [
    {
     "name": "stdout",
     "output_type": "stream",
     "text": [
      "Number of files with last modification date   0 to  90  days:  18219\n",
      "Number of files with last modification date  90 to 180  days:  20342\n",
      "Number of files with last modification date 180 to 365  days:  35372\n",
      "Number of files with last modification date   1 to   2 years:  73283\n",
      "Number of files with last modification date   2 to   3 years:  74754\n",
      "Number of files with last modification date   3 to   5 years:  139723\n",
      "Number of files with last modification date   5 to  99 years:  1053532\n"
     ]
    }
   ],
   "source": [
    "# show a list of all the filenames with age 0 to  90 days old by extracting all rows with ModificationTimeDays <= 90\n",
    "age0to90days = (df[(df['ModificationTimeDays'] >= 0) & (df['ModificationTimeDays'] < 90)])\n",
    "print(\"Number of files with last modification date   0 to  90  days: \", (len(age0to90days)) )\n",
    "\n",
    "# show a list of all the filenames with age 90 to 180 days\n",
    "age90to180days = (df[(df['ModificationTimeDays'] >= 90) & (df['ModificationTimeDays'] < 180)])\n",
    "print(\"Number of files with last modification date  90 to 180  days: \", (len(age90to180days)) )\n",
    "\n",
    "# show a list of all the filenames with age 180 to 365 days\n",
    "age180to365days = (df[(df['ModificationTimeDays'] >= 180) & (df['ModificationTimeDays'] < 365)])\n",
    "print(\"Number of files with last modification date 180 to 365  days: \", (len(age180to365days)) )\n",
    "\n",
    "# show a list of all the filenames with age 1 to 2 years days\n",
    "age1to2years = (df[(df['ModificationTimeDays'] >= (365*1)) & (df['ModificationTimeDays'] < (365*2))])\n",
    "print(\"Number of files with last modification date   1 to   2 years: \", (len(age1to2years)) )\n",
    "\n",
    "# show a list of all the filenames with age 2 to 3 years days\n",
    "age2to3years = (df[(df['ModificationTimeDays'] >= (365*2)) & (df['ModificationTimeDays'] < (365*3))])\n",
    "print(\"Number of files with last modification date   2 to   3 years: \", (len(age2to3years)) )\n",
    "\n",
    "# show a list of all the filenames with age 3 to 5 years days\n",
    "age3to5years = (df[(df['ModificationTimeDays'] >= (365*3)) & (df['ModificationTimeDays'] < (365*5))])\n",
    "print(\"Number of files with last modification date   3 to   5 years: \", (len(age3to5years)) )\n",
    "\n",
    "# show a list of all the filenames with age 5 to 99 years days\n",
    "age5to99years = (df[(df['ModificationTimeDays'] >= (365*5)) & (df['ModificationTimeDays'] < (365*99))])\n",
    "print(\"Number of files with last modification date   5 to  99 years: \", (len(age5to99years)) )\n",
    "\n"
   ]
  },
  {
   "cell_type": "code",
   "execution_count": 28,
   "id": "d40925e8",
   "metadata": {
    "scrolled": false
   },
   "outputs": [],
   "source": [
    "# create a bar graph with these vertical columns:\n",
    "# age0to90days\n",
    "# age90to180days\n",
    "# age180to365days\n",
    "# age1to2years\n",
    "# age2to3years\n",
    "# age3to5years\n",
    "# age5to99years\n",
    "\n",
    "\n",
    "## Create a sample dataframe with a text index\n",
    "#plotdata = pd.DataFrame({\"Filename Ages\": [len(age0to90days), len(age90to180days), len(age180to365days), len(age1to2years), len(age2to3years), len(age3to5years), len(age5to99years)]}, index=[\"0to90days\", \"90to180days\", \"180to365days\", \"1to2years\", \"2to3years\", \"3to5years\", \"5to99years\"])\n",
    "## Plot a bar chart\n",
    "##plt.title(\"Filename counts by age\")\n",
    "##plt.xlabel(\"File age\")\n",
    "##plt.ylabel(\"Number of files\")\n",
    "#plotdata.plot(kind=\"bar\",title=\"Filename counts by age\",xlabel=\"Last Modification Date\",ylabel=\"Number of files\")\n",
    "\n",
    "# To do: \n",
    "# see if you can show the vertical axis in \"thousands of files\" (ie adjust the scale)\n"
   ]
  },
  {
   "cell_type": "code",
   "execution_count": 29,
   "id": "6ff1a23f",
   "metadata": {},
   "outputs": [
    {
     "data": {
      "image/png": "[encoded data removed]",
      "text/plain": [
       "<Figure size 1000x500 with 1 Axes>"
      ]
     },
     "metadata": {},
     "output_type": "display_data"
    }
   ],
   "source": [
    "# create a better bar chart than the previous step by including value labels for each column\n",
    "\n",
    "# function to add value labels\n",
    "def addlabels(x,y):\n",
    "    for i in range(len(x)):\n",
    "        plt.text(i, y[i], y[i], ha = 'center')\n",
    " \n",
    "if __name__ == '__main__':\n",
    "   \n",
    "    # creating data on which bar chart will be plot\n",
    "    x = \"0to90days\", \"90to180days\", \"180to365days\", \"1to2years\", \"2to3years\", \"3to5years\", \"5to99years\"\n",
    "    y = [len(age0to90days), len(age90to180days), len(age180to365days), len(age1to2years), len(age2to3years), len(age3to5years), len(age5to99years)]\n",
    "     \n",
    "    # setting figure size by using figure() function\n",
    "    plt.figure(figsize = (10, 5))\n",
    "     \n",
    "    # making the bar chart on the data\n",
    "    plt.bar(x, y)\n",
    "     \n",
    "    # calling the function to add value labels\n",
    "    addlabels(x, y)\n",
    "     \n",
    "    # giving title to the plot\n",
    "    plt.title(\"Filename counts by age\")\n",
    "     \n",
    "    # giving X and Y labels\n",
    "    plt.xlabel(\"Last Modification Date\")\n",
    "    plt.ylabel(\"Number of files\")\n",
    "     \n",
    "    # visualizing the plot\n",
    "    plt.show()"
   ]
  },
  {
   "cell_type": "code",
   "execution_count": 30,
   "id": "f82919de",
   "metadata": {},
   "outputs": [
    {
     "data": {
      "image/png": "[encoded data removed]",
      "text/plain": [
       "<Figure size 640x480 with 1 Axes>"
      ]
     },
     "metadata": {},
     "output_type": "display_data"
    }
   ],
   "source": [
    "# create pie chart using the same data as the previous bar chart\n",
    "\n",
    "labels = \"0to90days\", \"90to180days\", \"180to365days\", \"1to2years\", \"2to3years\", \"3to5years\", \"5to99years\"\n",
    "sizes  = [len(age0to90days), len(age90to180days), len(age180to365days), len(age1to2years), len(age2to3years), len(age3to5years), len(age5to99years)]\n",
    "\n",
    "plt.title(\"Percentage Filename counts by age\")\n",
    "plt.pie(sizes, labels=labels, autopct='%1.1f%%')\n",
    "#plt.legend(loc='right')\n",
    "plt.show()\n"
   ]
  },
  {
   "cell_type": "markdown",
   "id": "717e4bec",
   "metadata": {},
   "source": [
    "# 5 - calculate total bytes for each category of files\n",
    "(this section is time consuming if you have a lot of rows in the dataset)"
   ]
  },
  {
   "cell_type": "code",
   "execution_count": null,
   "id": "ebe2030d",
   "metadata": {},
   "outputs": [
    {
     "name": "stdout",
     "output_type": "stream",
     "text": [
      "Starting processing of 1415227 files\n",
      "Detected large input file, please be patient during processing...\n",
      "Processed 0 of 1415227 files  s:\\2-METRICS MANAGEMENT\\0_Archive\\Chapter.pdf 90864 3206\n",
      "Processed 100000 of 1415227 files  s:\\CurriculumServicesEditing\\1 To Be Edited\\A Assigned Archive\\FY 2016-17\\VISA 1111 - Chris to edit\\VISA 1111 AF_Web_AC_AF-0416.docx 1499499 2632\n",
      "Processed 200000 of 1415227 files  s:\\Final Exams and Keys\\Exams Version outdated\\HRMN\\HRMN 4891\\HRMN4891_B_ak_30MAY16.docx 37278 2596\n",
      "Processed 300000 of 1415227 files  s:\\IDG-WorkFiles\\Marlene B\\Archive\\Courses\\MBA\\Transferred to O\\FINAL BUSN 5031 (MB)\\BUSN 5031 Modules_Aug9_MB\\BUSN 5031 Modules.doc 1431552 3633\n",
      "Processed 400000 of 1415227 files  s:\\IDRG-production\\COURSES\\COMPLETED\\BBUS\\BBUS3671_(ADMN367)\\BBUS3671_(ADMN367)_MAY2006\\ADMN367_Mod2_ts_noAsst.doc 323584 6293\n",
      "Processed 500000 of 1415227 files  s:\\IDRG-production\\SOFTWARE\\XML_SCRIPTING\\COURSES_OUTPUT\\anth2921-test\\u03\\u03_t03.html 3462 1232\n",
      "Processed 600000 of 1415227 files  s:\\IPO_SCANS\\LICENCES for OL courses\\OL LICENCES\\ENGL\\ENGL (F)\\ENGL102\\C-ENGL102 - 0885 92-0022(b).pdf 2990007 4364\n",
      "Processed 700000 of 1415227 files  s:\\Media\\ARCHIVE\\MED\\educ5421\\unit 7\\EDUC 5421 Unit 7 Activity - Storyline output\\mobile\\slides\\6Dm4CH37PaW.gz 2936 2888\n",
      "Processed 800000 of 1415227 files  s:\\OL-PLAR\\Archived files\\oftvuarc\\4fa7ab23.000 17184 4080\n",
      "Processed 900000 of 1415227 files  s:\\OL_Faculty_Member_Support\\. Academic Integrity and Appeals\\. Student Appeals and Academic Integrity\\Ohe_Sohyun\\4\\Plagiarism_BIOL111_SOhe_b2.pdf 124041 1453\n"
     ]
    }
   ],
   "source": [
    "# figure out the total number of bytes for each file category\n",
    "\n",
    "# initialize variables\n",
    "bytes0to90days    = 0\n",
    "bytes90to180days  = 0\n",
    "bytes180to365days = 0\n",
    "bytes1to2years    = 0\n",
    "bytes2to3years    = 0\n",
    "bytes3to5years    = 0\n",
    "bytes5to99years   = 0\n",
    "\n",
    "print(\"Starting processing of\", len(df), \"files\")\n",
    "if len(df) > 1000000: print(\"Detected large input file, please be patient during processing...\")\n",
    "# loop through the contents of the dataframe to find the total number of bytes for each file age category\n",
    "for i in range(0,len(df)):\n",
    "    if (i % 100000 == 0):  print(\"Processed\", i, \"of\", len(df), \"files \", df.Filename[i], df.Bytes[i], df.ModificationTimeDays[i]) # print debug output every 100000 lines\n",
    "    if (i+1 == (len(df))): print(\"Processed\", i, \"of\", len(df), \"files \", df.Filename[i], df.Bytes[i], df.ModificationTimeDays[i]) # print debug output for the last line so we know when the loop is finished\n",
    "    if (df.ModificationTimeDays[i] >=0       and df.ModificationTimeDays[i] <  90):      bytes0to90days    += df.Bytes[i]\n",
    "    if (df.ModificationTimeDays[i] >=90      and df.ModificationTimeDays[i] < 180):      bytes90to180days  += df.Bytes[i]\n",
    "    if (df.ModificationTimeDays[i] >=180     and df.ModificationTimeDays[i] < 365):      bytes180to365days += df.Bytes[i]\n",
    "    if (df.ModificationTimeDays[i] >=(365*1) and df.ModificationTimeDays[i] < (365*2)):  bytes1to2years    += df.Bytes[i]\n",
    "    if (df.ModificationTimeDays[i] >=(365*2) and df.ModificationTimeDays[i] < (365*3)):  bytes2to3years    += df.Bytes[i]\n",
    "    if (df.ModificationTimeDays[i] >=(365*3) and df.ModificationTimeDays[i] < (365*5)):  bytes3to5years    += df.Bytes[i]\n",
    "    if (df.ModificationTimeDays[i] >=(365*5) and df.ModificationTimeDays[i] < (365*99)): bytes5to99years   += df.Bytes[i]\n",
    "\n",
    "\n",
    "   \n"
   ]
  },
  {
   "cell_type": "code",
   "execution_count": null,
   "id": "3abdd10d",
   "metadata": {},
   "outputs": [],
   "source": [
    "print(\"Bytes with last modification date   0 to  90  days: \", bytes0to90days    )        \n",
    "print(\"Bytes with last modification date  90 to 180  days: \", bytes90to180days  )        \n",
    "print(\"Bytes with last modification date 180 to 365  days: \", bytes180to365days )        \n",
    "print(\"Bytes with last modification date   1 to   2 years: \", bytes1to2years    )        \n",
    "print(\"Bytes with last modification date   2 to   3 years: \", bytes2to3years    )        \n",
    "print(\"Bytes with last modification date   3 to   5 years: \", bytes3to5years    )        \n",
    "print(\"Bytes with last modification date   5 to  99 years: \", bytes5to99years   )        \n"
   ]
  },
  {
   "cell_type": "code",
   "execution_count": null,
   "id": "802c0388",
   "metadata": {},
   "outputs": [],
   "source": [
    "# convert bytes to more human-readable kilobytes for graphing\n",
    "# use int() to convert the floating point value to the nearest integer (nearest GB is close enough)\n",
    "Kbytes0to90days    = int(bytes0to90days/1024)\n",
    "Kbytes90to180days  = int(bytes90to180days/1024)\n",
    "Kbytes180to365days = int(bytes180to365days/1024)\n",
    "Kbytes1to2years    = int(bytes1to2years/1024)\n",
    "Kbytes2to3years    = int(bytes2to3years/1024)\n",
    "Kbytes3to5years    = int(bytes3to5years/1024)\n",
    "Kbytes5to99years   = int(bytes5to99years/1024)\n",
    "\n",
    "print(\"KiloBytes with last modification date   0 to  90  days: \", Kbytes0to90days    )        \n",
    "print(\"KiloBytes with last modification date  90 to 180  days: \", Kbytes90to180days  )        \n",
    "print(\"KiloBytes with last modification date 180 to 365  days: \", Kbytes180to365days )        \n",
    "print(\"KiloBytes with last modification date   1 to   2 years: \", Kbytes1to2years    )        \n",
    "print(\"KiloBytes with last modification date   2 to   3 years: \", Kbytes2to3years    )        \n",
    "print(\"KiloBytes with last modification date   3 to   5 years: \", Kbytes3to5years    )        \n",
    "print(\"KiloBytes with last modification date   5 to  99 years: \", Kbytes5to99years   ) \n"
   ]
  },
  {
   "cell_type": "code",
   "execution_count": null,
   "id": "1153774c",
   "metadata": {},
   "outputs": [],
   "source": [
    "# convert bytes to more human-readable megabytes for graphing\n",
    "# use int() to convert the floating point value to the nearest integer (nearest GB is close enough)\n",
    "Mbytes0to90days    = int(bytes0to90days/1024/1024)\n",
    "Mbytes90to180days  = int(bytes90to180days/1024/1024)\n",
    "Mbytes180to365days = int(bytes180to365days/1024/1024)\n",
    "Mbytes1to2years    = int(bytes1to2years/1024/1024)\n",
    "Mbytes2to3years    = int(bytes2to3years/1024/1024)\n",
    "Mbytes3to5years    = int(bytes3to5years/1024/1024)\n",
    "Mbytes5to99years   = int(bytes5to99years/1024/1024)\n",
    "\n",
    "print(\"MegaBytes with last modification date   0 to  90  days: \", Mbytes0to90days    )        \n",
    "print(\"MegaBytes with last modification date  90 to 180  days: \", Mbytes90to180days  )        \n",
    "print(\"MegaBytes with last modification date 180 to 365  days: \", Mbytes180to365days )        \n",
    "print(\"MegaBytes with last modification date   1 to   2 years: \", Mbytes1to2years    )        \n",
    "print(\"MegaBytes with last modification date   2 to   3 years: \", Mbytes2to3years    )        \n",
    "print(\"MegaBytes with last modification date   3 to   5 years: \", Mbytes3to5years    )        \n",
    "print(\"MegaBytes with last modification date   5 to  99 years: \", Mbytes5to99years   ) \n"
   ]
  },
  {
   "cell_type": "code",
   "execution_count": null,
   "id": "af1f8b54",
   "metadata": {},
   "outputs": [],
   "source": [
    "# convert bytes to more human-readable gigabytes for graphing\n",
    "# use int() to convert the floating point value to the nearest integer (nearest MB is close enough)\n",
    "Gbytes0to90days    = int(bytes0to90days/1024/1024/1024)\n",
    "Gbytes90to180days  = int(bytes90to180days/1024/1024/1024)\n",
    "Gbytes180to365days = int(bytes180to365days/1024/1024/1024)\n",
    "Gbytes1to2years    = int(bytes1to2years/1024/1024/1024)\n",
    "Gbytes2to3years    = int(bytes2to3years/1024/1024/1024)\n",
    "Gbytes3to5years    = int(bytes3to5years/1024/1024/1024)\n",
    "Gbytes5to99years   = int(bytes5to99years/1024/1024/1024)\n",
    "\n",
    "print(\"GigaBytes with last modification date   0 to  90  days: \", Gbytes0to90days    )        \n",
    "print(\"GigaBytes with last modification date  90 to 180  days: \", Gbytes90to180days  )        \n",
    "print(\"GigaBytes with last modification date 180 to 365  days: \", Gbytes180to365days )        \n",
    "print(\"GigaBytes with last modification date   1 to   2 years: \", Gbytes1to2years    )        \n",
    "print(\"GigaBytes with last modification date   2 to   3 years: \", Gbytes2to3years    )        \n",
    "print(\"GigaBytes with last modification date   3 to   5 years: \", Gbytes3to5years    )        \n",
    "print(\"GigaBytes with last modification date   5 to  99 years: \", Gbytes5to99years   )        "
   ]
  },
  {
   "cell_type": "code",
   "execution_count": null,
   "id": "1a2f9e48",
   "metadata": {},
   "outputs": [],
   "source": [
    "# convert bytes to more human-readable terabytes for graphing\n",
    "# use int() to convert the floating point value to the nearest integer (nearest TB is close enough)\n",
    "Tbytes0to90days    = int(bytes0to90days/1024/1024/1024/1024)\n",
    "Tbytes90to180days  = int(bytes90to180days/1024/1024/1024/1024)\n",
    "Tbytes180to365days = int(bytes180to365days/1024/1024/1024/1024)\n",
    "Tbytes1to2years    = int(bytes1to2years/1024/1024/1024/1024)\n",
    "Tbytes2to3years    = int(bytes2to3years/1024/1024/1024/1024)\n",
    "Tbytes3to5years    = int(bytes3to5years/1024/1024/1024/1024)\n",
    "Tbytes5to99years   = int(bytes5to99years/1024/1024/1024/1024)\n",
    "\n",
    "print(\"TeraBytes with last modification date   0 to  90  days: \", Tbytes0to90days    )        \n",
    "print(\"TeraBytes with last modification date  90 to 180  days: \", Tbytes90to180days  )        \n",
    "print(\"TeraBytes with last modification date 180 to 365  days: \", Tbytes180to365days )        \n",
    "print(\"TeraBytes with last modification date   1 to   2 years: \", Tbytes1to2years    )        \n",
    "print(\"TeraBytes with last modification date   2 to   3 years: \", Tbytes2to3years    )        \n",
    "print(\"TeraBytes with last modification date   3 to   5 years: \", Tbytes3to5years    )        \n",
    "print(\"TeraBytes with last modification date   5 to  99 years: \", Tbytes5to99years   )     "
   ]
  },
  {
   "cell_type": "code",
   "execution_count": null,
   "id": "df77d111",
   "metadata": {},
   "outputs": [],
   "source": [
    "# convert bytes to more human-readable petabytes for graphing\n",
    "# use int() to convert the floating point value to the nearest integer (nearest PB is close enough)\n",
    "Pbytes0to90days    = int(bytes0to90days/1024/1024/1024/1024/1024)\n",
    "Pbytes90to180days  = int(bytes90to180days/1024/1024/1024/1024/1024)\n",
    "Pbytes180to365days = int(bytes180to365days/1024/1024/1024/1024/1024)\n",
    "Pbytes1to2years    = int(bytes1to2years/1024/1024/1024/1024/1024)\n",
    "Pbytes2to3years    = int(bytes2to3years/1024/1024/1024/1024/1024)\n",
    "Pbytes3to5years    = int(bytes3to5years/1024/1024/1024/1024/1024)\n",
    "Pbytes5to99years   = int(bytes5to99years/1024/1024/1024/1024/1024)\n",
    "\n",
    "print(\"PetaBytes with last modification date   0 to  90  days: \", Pbytes0to90days    )        \n",
    "print(\"PetaBytes with last modification date  90 to 180  days: \", Pbytes90to180days  )        \n",
    "print(\"PetaBytes with last modification date 180 to 365  days: \", Pbytes180to365days )        \n",
    "print(\"PetaBytes with last modification date   1 to   2 years: \", Pbytes1to2years    )        \n",
    "print(\"PetaBytes with last modification date   2 to   3 years: \", Pbytes2to3years    )        \n",
    "print(\"PetaBytes with last modification date   3 to   5 years: \", Pbytes3to5years    )        \n",
    "print(\"PetaBytes with last modification date   5 to  99 years: \", Pbytes5to99years   ) "
   ]
  },
  {
   "cell_type": "code",
   "execution_count": null,
   "id": "3698f7a0",
   "metadata": {},
   "outputs": [],
   "source": [
    "# Based on the byte counts, figure out the preferred unit value (Bytes, MegaBytes, GigaBytes, TeraBytes) to use for graphing\n",
    "if (bytes0to90days  >= 0):  y_axis_units = \"Bytes\"  #start with default value of bytes\n",
    "if (Kbytes0to90days >= 10): y_axis_units = \"KiloBytes\"\n",
    "if (Mbytes0to90days >= 10): y_axis_units = \"MegaBytes\"\n",
    "if (Gbytes0to90days >= 10): y_axis_units = \"GigaBytes\"\n",
    "if (Tbytes0to90days >= 10): y_axis_units = \"TeraBytes\"\n",
    "if (Pbytes0to90days >= 10): y_axis_units = \"PetaBytes\"\n",
    "print (\"Based on file sizes, the vertical y-axis units will be shown in \", y_axis_units)\n",
    "\n",
    "## manually edit y_axis_units if desired\n",
    "##y_axis_units = \"GigaBytes\""
   ]
  },
  {
   "cell_type": "code",
   "execution_count": null,
   "id": "3a9c0bec",
   "metadata": {},
   "outputs": [],
   "source": [
    "# create a bar graph with these vertical columns:\n",
    "# bytes0to90days\n",
    "# bytes90to180days\n",
    "# bytes180to365days\n",
    "# bytes1to2years\n",
    "# bytes2to3years\n",
    "# bytes3to5years\n",
    "# bytes5to99years\n",
    "\n",
    "\n",
    "\n",
    "\n",
    "\n",
    "\n",
    "## Create a sample dataframe with a text index\n",
    "#if (y_axis_units == \"Bytes\"):     plotdata = pd.DataFrame({\"Bytes by Age\":     [ bytes0to90days,  bytes90to180days,  bytes180to365days,  bytes1to2years,  bytes2to3years,  bytes3to5years,  bytes5to99years]}, index=[\"0to90days\", \"90to180days\", \"180to365days\", \"1to2years\", \"2to3years\", \"3to5years\", \"5to99years\"])\n",
    "#if (y_axis_units == \"KiloBytes\"): plotdata = pd.DataFrame({\"KiloBytes by Age\": [Kbytes0to90days, Kbytes90to180days, Kbytes180to365days, Kbytes1to2years, Kbytes2to3years, Kbytes3to5years, Kbytes5to99years]}, index=[\"0to90days\", \"90to180days\", \"180to365days\", \"1to2years\", \"2to3years\", \"3to5years\", \"5to99years\"])\n",
    "#if (y_axis_units == \"MegaBytes\"): plotdata = pd.DataFrame({\"MegaBytes by Age\": [Mbytes0to90days, Mbytes90to180days, Mbytes180to365days, Mbytes1to2years, Mbytes2to3years, Mbytes3to5years, Mbytes5to99years]}, index=[\"0to90days\", \"90to180days\", \"180to365days\", \"1to2years\", \"2to3years\", \"3to5years\", \"5to99years\"])    \n",
    "#if (y_axis_units == \"GigaBytes\"): plotdata = pd.DataFrame({\"GigaBytes by Age\": [Gbytes0to90days, Gbytes90to180days, Gbytes180to365days, Gbytes1to2years, Gbytes2to3years, Gbytes3to5years, Gbytes5to99years]}, index=[\"0to90days\", \"90to180days\", \"180to365days\", \"1to2years\", \"2to3years\", \"3to5years\", \"5to99years\"])\n",
    "#if (y_axis_units == \"TeraBytes\"): plotdata = pd.DataFrame({\"TeraBytes by Age\": [Tbytes0to90days, Tbytes90to180days, Tbytes180to365days, Tbytes1to2years, Tbytes2to3years, Tbytes3to5years, Tbytes5to99years]}, index=[\"0to90days\", \"90to180days\", \"180to365days\", \"1to2years\", \"2to3years\", \"3to5years\", \"5to99years\"])        \n",
    "#if (y_axis_units == \"PetaBytes\"): plotdata = pd.DataFrame({\"PetaBytes by Age\": [Pbytes0to90days, Pbytes90to180days, Pbytes180to365days, Pbytes1to2years, Pbytes2to3years, Pbytes3to5years, Pbytes5to99years]}, index=[\"0to90days\", \"90to180days\", \"180to365days\", \"1to2years\", \"2to3years\", \"3to5years\", \"5to99years\"])        \n",
    "\n",
    "## plot the data\n",
    "#plotdata.plot(kind=\"bar\",title=\"Byte counts by age\",xlabel=\"Last Modification Date\",ylabel=y_axis_units)\n",
    "\n"
   ]
  },
  {
   "cell_type": "code",
   "execution_count": null,
   "id": "d6e04aa1",
   "metadata": {},
   "outputs": [],
   "source": [
    "# create a better bar chart than the previous step by including value labels for each column\n",
    "\n",
    "\n",
    "\n",
    "# function to add value labels\n",
    "def addlabels(x,y):\n",
    "    for i in range(len(x)):\n",
    "        plt.text(i, y[i], y[i], ha = 'center')\n",
    " \n",
    "if __name__ == '__main__':\n",
    "   \n",
    "    # creating data on which bar chart will be plot\n",
    "    x = \"0to90days\", \"90to180days\", \"180to365days\", \"1to2years\", \"2to3years\", \"3to5years\", \"5to99years\"\n",
    "    #\n",
    "    # Based on how big the numbers are, figure out if the vertical y-axis should be in bytes, Mbytes, Gbytes, Tbytes, Pbytes\n",
    "    if (y_axis_units == \"Bytes\"):     y = [ bytes0to90days,  bytes90to180days,  bytes180to365days,  bytes1to2years,  bytes2to3years,  bytes3to5years,  bytes5to99years]\n",
    "    if (y_axis_units == \"MegaBytes\"): y = [Mbytes0to90days, Mbytes90to180days, Mbytes180to365days, Mbytes1to2years, Mbytes2to3years, Mbytes3to5years, Mbytes5to99years]\n",
    "    if (y_axis_units == \"GigaBytes\"): y = [Gbytes0to90days, Gbytes90to180days, Gbytes180to365days, Gbytes1to2years, Gbytes2to3years, Gbytes3to5years, Gbytes5to99years]\n",
    "    if (y_axis_units == \"TeraBytes\"): y = [Tbytes0to90days, Tbytes90to180days, Tbytes180to365days, Tbytes1to2years, Tbytes2to3years, Tbytes3to5years, Tbytes5to99years]\n",
    "    if (y_axis_units == \"PetaBytes\"): y = [Pbytes0to90days, Pbytes90to180days, Pbytes180to365days, Pbytes1to2years, Pbytes2to3years, Pbytes3to5years, Pbytes5to99years]\n",
    "\n",
    "     \n",
    "    # setting figure size by using figure() function\n",
    "    plt.figure(figsize = (10, 5))\n",
    "     \n",
    "    # making the bar chart on the data\n",
    "    plt.bar(x, y)\n",
    "     \n",
    "    # calling the function to add value labels\n",
    "    addlabels(x, y)\n",
    "     \n",
    "    # giving title to the plot\n",
    "    plt.title(\"Total storage consumed by file age\")\n",
    "     \n",
    "    # giving X and Y labels\n",
    "    plt.xlabel(\"Last Modification Date\")\n",
    "    plt.ylabel(\"Number of bytes\")\n",
    "    if (y_axis_units == \"Bytes\"):     plt.ylabel(\"Bytes\")\n",
    "    if (y_axis_units == \"KiloBytes\"): plt.ylabel(\"Kilobytes\")\n",
    "    if (y_axis_units == \"MegaBytes\"): plt.ylabel(\"MegaBbytes\")\n",
    "    if (y_axis_units == \"GigaBytes\"): plt.ylabel(\"GigaBytes\")\n",
    "    if (y_axis_units == \"TeraBytes\"): plt.ylabel(\"TeraBytes\")\n",
    "    if (y_axis_units == \"PetaBytes\"): plt.ylabel(\"PetaBytes\")\n",
    "\n",
    "     \n",
    "    # visualizing the plot\n",
    "    plt.show()"
   ]
  },
  {
   "cell_type": "code",
   "execution_count": null,
   "id": "f49aef8b",
   "metadata": {},
   "outputs": [],
   "source": [
    "# create pie chart using the same data as the previous bar chart\n",
    "\n",
    "labels = \"0to90days\", \"90to180days\", \"180to365days\", \"1to2years\", \"2to3years\", \"3to5years\", \"5to99years\"\n",
    "sizes  = [bytes0to90days, bytes90to180days, bytes180to365days, bytes1to2years, bytes2to3years, bytes3to5years, bytes5to99years]\n",
    "\n",
    "plt.title(\"Percentage Byte counts by age\")\n",
    "#plt.xlabel(\"Age\")\n",
    "#plt.ylabel(\"GigaBytes\")\n",
    "plt.pie(sizes, labels=labels, autopct='%1.1f%%')\n",
    "#plt.legend()\n",
    "plt.show()"
   ]
  },
  {
   "cell_type": "markdown",
   "id": "32e96926",
   "metadata": {},
   "source": [
    "# 6 - Create reports in CSV format of each category of files\n"
   ]
  },
  {
   "cell_type": "code",
   "execution_count": null,
   "id": "c50e607a",
   "metadata": {},
   "outputs": [],
   "source": [
    "\n",
    "# Generate reports in CSV format showing the list of filenames, bytes, ModificationTimeDays\n",
    "\n",
    "## open file for writing\n",
    "#CSV_temp_file = CSV_source_file   #start with name of source file\n",
    "#CSV_temp_file += \".tmp\"           #append .tmp to filename\n",
    "\n",
    "CSV_output_file = CSV_source_file   #start with name of source file\n",
    "CSV_output_file += \"_0to90days.csv\" #append date range to filename\n",
    "df_output_file  = df[ (df['ModificationTimeDays'] >= 0)        & (df['ModificationTimeDays'] < 90)]  \n",
    "print (\"Creating CSV output file showing all filenames with ages at:\", CSV_output_file)\n",
    "df_output_file.to_csv(CSV_output_file)\n",
    "\n",
    "CSV_output_file = CSV_source_file   #start with name of source file\n",
    "CSV_output_file += \"_90to180days.csv\" #append date range to filename\n",
    "df_output_file  = df[ (df['ModificationTimeDays'] >= 90)     & (df['ModificationTimeDays'] < 180)]  \n",
    "print (\"Creating CSV output file showing all filenames with ages at:\", CSV_output_file)\n",
    "df_output_file.to_csv(CSV_output_file)\n",
    "\n",
    "CSV_output_file = CSV_source_file   #start with name of source file\n",
    "CSV_output_file += \"_180to365days.csv\" #append date range to filename\n",
    "df_output_file = df[ (df['ModificationTimeDays'] >= 180)   & (df['ModificationTimeDays'] < 365)]  \n",
    "print (\"Creating CSV output file showing all filenames with ages at:\", CSV_output_file)\n",
    "df_output_file.to_csv(CSV_output_file)\n",
    "\n",
    "CSV_output_file = CSV_source_file   #start with name of source file\n",
    "CSV_output_file += \"_1to2years.csv\" #append date range to filename\n",
    "df_output_file = df[ (df['ModificationTimeDays'] >= (365*1))  & (df['ModificationTimeDays'] < (365*2))]  \n",
    "print (\"Creating CSV output file showing all filenames with ages at:\", CSV_output_file)\n",
    "df_output_file.to_csv(CSV_output_file)\n",
    "\n",
    "CSV_output_file = CSV_source_file   #start with name of source file\n",
    "CSV_output_file += \"_2to3years.csv\" #append date range to filename\n",
    "df_output_file = df[ (df['ModificationTimeDays'] >= (365*2))  & (df['ModificationTimeDays'] < (365*3))]  \n",
    "print (\"Creating CSV output file showing all filenames with ages at:\", CSV_output_file)\n",
    "df_output_file.to_csv(CSV_output_file)\n",
    "\n",
    "CSV_output_file = CSV_source_file   #start with name of source file\n",
    "CSV_output_file += \"_3to5years.csv\" #append date range to filename\n",
    "df_output_file = df[ (df['ModificationTimeDays'] >= (365*3))  & (df['ModificationTimeDays'] < (365*5))]  \n",
    "print (\"Creating CSV output file showing all filenames with ages at:\", CSV_output_file)\n",
    "df_output_file.to_csv(CSV_output_file)\n",
    "\n",
    "CSV_output_file = CSV_source_file   #start with name of source file\n",
    "CSV_output_file += \"_5to99years.csv\" #append date range to filename\n",
    "df_output_file= df[ (df['ModificationTimeDays'] >= (365*5)) & (df['ModificationTimeDays'] < (365*99))]  \n",
    "print (\"Creating CSV output file showing all filenames with ages at:\", CSV_output_file)\n",
    "df_output_file.to_csv(CSV_output_file)\n",
    "\n",
    "print (\"Finished creating CSV output files\")\n",
    "\n",
    "                                                               \n",
    "\n"
   ]
  },
  {
   "cell_type": "code",
   "execution_count": null,
   "id": "6af5cb53",
   "metadata": {},
   "outputs": [],
   "source": [
    "# Delete temporary file\n",
    "import os\n",
    "from pathlib import Path\n",
    "if os.path.isfile(CSV_source_file):\n",
    "    os.remove(CSV_source_file)\n",
    "    print (\"Deleting temporary file\",CSV_source_file)\n",
    "    \n",
    "\n"
   ]
  },
  {
   "cell_type": "code",
   "execution_count": null,
   "id": "1c018b05",
   "metadata": {},
   "outputs": [],
   "source": []
  }
 ],
 "metadata": {
  "kernelspec": {
   "display_name": "Python 3 (ipykernel)",
   "language": "python",
   "name": "python3"
  },
  "language_info": {
   "codemirror_mode": {
    "name": "ipython",
    "version": 3
   },
   "file_extension": ".py",
   "mimetype": "text/x-python",
   "name": "python",
   "nbconvert_exporter": "python",
   "pygments_lexer": "ipython3",
   "version": "3.9.13"
  }
 },
 "nbformat": 4,
 "nbformat_minor": 5
}
